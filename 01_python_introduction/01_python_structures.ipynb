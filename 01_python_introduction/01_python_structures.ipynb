{
 "cells": [
  {
   "cell_type": "markdown",
   "metadata": {},
   "source": [
    "# Python introduction"
   ]
  },
  {
   "cell_type": "markdown",
   "metadata": {},
   "source": [
    "## Builtins\n",
    "\n",
    "We can find out object's type using builtin `type` function"
   ]
  },
  {
   "cell_type": "code",
   "execution_count": 1,
   "metadata": {
    "scrolled": true
   },
   "outputs": [
    {
     "name": "stdout",
     "output_type": "stream",
     "text": [
      "int type <class 'int'>\n",
      "float type <class 'float'>\n",
      "string type <class 'str'>\n",
      "list type <class 'list'>\n",
      "tuple type <class 'tuple'>\n",
      "dictionary type <class 'dict'>\n",
      "None type <class 'NoneType'>\n",
      "boolean type <class 'bool'>\n"
     ]
    }
   ],
   "source": [
    "int_var = 1\n",
    "float_var = 1.\n",
    "string_var = \"msai\"\n",
    "list_var = [1, 2, 3]\n",
    "tuple_var = (1, 2, 3)\n",
    "dict_var = {\"1\": 1, \"2\": 2, \"3\": 3}\n",
    "none_var = None\n",
    "bool_var = True\n",
    "\n",
    "print(f'int type {type(int_var)}')\n",
    "print(f'float type {type(float_var)}')\n",
    "print(f'string type {type(string_var)}')\n",
    "print(f'list type {type(list_var)}')\n",
    "print(f'tuple type {type(tuple_var)}')\n",
    "print(f'dictionary type {type(dict_var)}')\n",
    "print(f'None type {type(none_var)}')\n",
    "print(f'boolean type {type(bool_var)}')"
   ]
  },
  {
   "cell_type": "markdown",
   "metadata": {},
   "source": [
    "`isnstance` returns `False` if object is not an object of the given type."
   ]
  },
  {
   "cell_type": "code",
   "execution_count": 2,
   "metadata": {},
   "outputs": [
    {
     "name": "stdout",
     "output_type": "stream",
     "text": [
      "True\n",
      "True\n",
      "True\n"
     ]
    }
   ],
   "source": [
    "print(isinstance(1., float))\n",
    "print(isinstance(1, int))\n",
    "\n",
    "# Is object is instance of any given type from (int, float)\n",
    "print(isinstance(1, (int, float)))"
   ]
  },
  {
   "cell_type": "markdown",
   "metadata": {},
   "source": [
    "## id\n",
    "\n",
    "Return the `identity` of an object. This is an integer which is guaranteed to be unique and constant for this object during its lifetime. Two objects with non-overlapping lifetimes may have the same `id()` value.\n",
    "\n",
    "`CPython` implementation detail: This is the `address` of the object in memory."
   ]
  },
  {
   "cell_type": "code",
   "execution_count": 3,
   "metadata": {},
   "outputs": [
    {
     "name": "stdout",
     "output_type": "stream",
     "text": [
      "Identity of None: 4412037208\n",
      "Identity of integer \"1\": 4412319680\n"
     ]
    }
   ],
   "source": [
    "none_var = None\n",
    "int_var = 1\n",
    "\n",
    "print(f'Identity of None: {id(none_var)}')\n",
    "print(f'Identity of integer \"1\": {id(int_var)}')\n"
   ]
  },
  {
   "cell_type": "markdown",
   "metadata": {},
   "source": [
    "## None\n",
    "`None` object is `immutable` `singletone` object.\n",
    "\n",
    "Represents an absence of a value"
   ]
  },
  {
   "cell_type": "code",
   "execution_count": 4,
   "metadata": {
    "scrolled": true
   },
   "outputs": [
    {
     "name": "stdout",
     "output_type": "stream",
     "text": [
      "none_var is another_none_var: True\n"
     ]
    }
   ],
   "source": [
    "none_var = None\n",
    "another_none_var = None\n",
    "\n",
    "print(f'none_var is another_none_var: {none_var is another_none_var}')\n",
    "\n",
    "# \"is\" operator is equal to id(obj1) == id(obj2)"
   ]
  },
  {
   "cell_type": "markdown",
   "metadata": {},
   "source": [
    "## Numeric \n",
    "\n",
    "* integers\n",
    "* floating point numbers\n",
    "* complex numbers\n",
    "\n",
    "The division operator `/` for integers gives a floating-point real number (an object of type float). \n",
    "The exponentiation `**` also returns a float when the power is negative.\n",
    "\n",
    "If `number < 0` and `power < 1` - `**` return complex number."
   ]
  },
  {
   "cell_type": "code",
   "execution_count": 5,
   "metadata": {},
   "outputs": [
    {
     "name": "stdout",
     "output_type": "stream",
     "text": [
      "sum:\n",
      "int sum: 20\n",
      "int sum with cast to float: 20.3\n",
      "float sum: 20.3\n",
      "float sum with cast to complex: (20+10j)\n",
      "\n",
      "quotient:\n",
      "int quotient: 1.0\n",
      "float quotient: 1.0\n",
      "complex quotient: (1+1j)\n",
      "\n",
      "floored quotient:\n",
      "int floored quotient: 1\n",
      "float floored quotient: 1.0\n",
      "\n",
      "remainder:\n",
      "int remainder: 3\n",
      "int remainder with cast to float: 3.0\n",
      "float remainder: 3.0\n",
      "\n",
      "power:\n",
      "int in power of int: 100\n",
      "int in power of negative int: 0.01\n",
      "int in power of negative int and power less than 1: (1.9363366072701937e-16+3.1622776601683795j)\n",
      "\n",
      "absolute value:\n",
      "int absolute value: 10: 10\n",
      "float absolute value: 10.0: 10.0\n",
      "complex absolute value: 14.142135623730951\n"
     ]
    }
   ],
   "source": [
    "int_var = 10\n",
    "float_var = 10.\n",
    "complex_var = 10. + 10.j\n",
    "\n",
    "\n",
    "# sum\n",
    "print('sum:')\n",
    "print(f'int sum: {int_var + 10}')\n",
    "print(f'int sum with cast to float: {int_var + 10.30}')\n",
    "print(f'float sum: {float_var + 10.30}')\n",
    "print(f'float sum with cast to complex: {float_var + complex_var}')\n",
    "\n",
    "# quotient\n",
    "print('\\nquotient:')\n",
    "print(f'int quotient: {int_var / 10}')\n",
    "print(f'float quotient: {float_var / 10.}')\n",
    "print(f'complex quotient: {complex_var / 10.}')\n",
    "\n",
    "# floored quotient\n",
    "print('\\nfloored quotient:')\n",
    "print(f'int floored quotient: {int_var // 10}')\n",
    "print(f'float floored quotient: {float_var // 10.}')\n",
    "\n",
    "# remainder \n",
    "print('\\nremainder:')\n",
    "print(f'int remainder: {int_var % 7}')\n",
    "print(f'int remainder with cast to float: {int_var % 7.}')\n",
    "print(f'float remainder: {float_var % 7}')\n",
    "\n",
    "# power\n",
    "print('\\npower:')\n",
    "print(f'int in power of int: {int_var ** 2}')\n",
    "print(f'int in power of negative int: {int_var ** -2}')\n",
    "print(f'int in power of negative int and power less than 1: {(-int_var) ** 0.5}')\n",
    "\n",
    "# absolute value\n",
    "print('\\nabsolute value:')\n",
    "print(f'int absolute value: {abs(int_var)}: {abs(-int_var)}')\n",
    "print(f'float absolute value: {abs(float_var)}: {abs(-float_var)}')\n",
    "print(f'complex absolute value: {abs(complex_var)}')"
   ]
  },
  {
   "cell_type": "markdown",
   "metadata": {},
   "source": [
    "## Boolean\n",
    "Booleans in Python are represented by two `singletones` - `True` and `False`"
   ]
  },
  {
   "cell_type": "code",
   "execution_count": 6,
   "metadata": {},
   "outputs": [
    {
     "name": "stdout",
     "output_type": "stream",
     "text": [
      "True type <class 'bool'>\n",
      "False type <class 'bool'>\n",
      "a > b expression: False\n",
      "Empty list -> bool: False\n"
     ]
    }
   ],
   "source": [
    "true_var = True\n",
    "false_var = False\n",
    "\n",
    "print(f'True type {type(true_var)}')\n",
    "print(f'False type {type(true_var)}')\n",
    "\n",
    "# Some expressions could be boolean\n",
    "a = 20\n",
    "b = 21\n",
    "\n",
    "print(f'a > b expression: {a > b}')\n",
    "\n",
    "# Objects can be casted to booleans\n",
    "print(f'Empty list -> bool: {bool([])}')"
   ]
  },
  {
   "cell_type": "markdown",
   "metadata": {},
   "source": [
    "`bool` is a subclass of `int`, so `True` is an instance of `int`. \n",
    "\n",
    "Originally, Python had no `bool` type, and things that returned truth values returned `1` or `0`. \n",
    "\n",
    "When they added `bool`, `True` and `False` had to be drop-in replacements for `1` and `0` as much as possible for backward compatibility, hence the subclassing."
   ]
  },
  {
   "cell_type": "code",
   "execution_count": 7,
   "metadata": {},
   "outputs": [
    {
     "name": "stdout",
     "output_type": "stream",
     "text": [
      "True is instance of type int: True\n",
      "Object 1: int\n",
      "Object False: boolean\n"
     ]
    }
   ],
   "source": [
    "print(f'True is instance of type int: {isinstance(True, int)}')\n",
    "\n",
    "# If you want to catch such things, first you need to check if object is boolean\n",
    "obj = 1\n",
    "\n",
    "if isinstance(obj, bool):\n",
    "    print(f'Object {obj}: boolean')\n",
    "elif isinstance(obj, int):\n",
    "    print(f'Object {obj}: int')\n",
    "    \n",
    "obj = False\n",
    "\n",
    "if isinstance(obj, bool):\n",
    "    print(f'Object {obj}: boolean')\n",
    "elif isinstance(obj, int):\n",
    "    print(f'Object {obj}: int')\n"
   ]
  },
  {
   "cell_type": "markdown",
   "metadata": {},
   "source": [
    "## List\n",
    "\n",
    "Lists are `ordered` `mutable` sequences. Lists have no type check. \n",
    "\n",
    "In Python Lists are not linked lists, but dynamic arrays with pre-allocated memory."
   ]
  },
  {
   "cell_type": "code",
   "execution_count": 8,
   "metadata": {},
   "outputs": [
    {
     "name": "stdout",
     "output_type": "stream",
     "text": [
      "[1, 1.0, 'Hello']\n"
     ]
    }
   ],
   "source": [
    "# Initialization\n",
    "list_var = [1, 1.0, \"Hello\"]\n",
    "print(list_var)"
   ]
  },
  {
   "cell_type": "code",
   "execution_count": 9,
   "metadata": {},
   "outputs": [
    {
     "name": "stdout",
     "output_type": "stream",
     "text": [
      "list_var: [1, 2, 3, 4]\n",
      "Empty list: []\n",
      "list from string: ['h', 'e', 'l', 'l', 'o', ' ', 'w', 'o', 'r', 'l', 'd']\n"
     ]
    }
   ],
   "source": [
    "list_var = [1, 2, 3, 4]\n",
    "empty_list = [] # most common way, list() may be used\n",
    "empty_list = list()\n",
    "\n",
    "print(f'list_var: {list_var}')\n",
    "print(f'Empty list: {empty_list}')\n",
    "\n",
    "# list from iterable\n",
    "print(f'list from string: {list(\"hello world\")}')"
   ]
  },
  {
   "cell_type": "code",
   "execution_count": 10,
   "metadata": {},
   "outputs": [
    {
     "name": "stdout",
     "output_type": "stream",
     "text": [
      "Sorted list_var: [1, 2, 3, 7, 10]\n",
      "Reversed sorted list_var: [10, 7, 3, 2, 1]\n"
     ]
    }
   ],
   "source": [
    "# Sort \n",
    "# This method sorts the list in place, using only < comparisons between items.\n",
    "list_var = [10, 1, 7, 3, 2]\n",
    "list_var.sort() # O(n log n)\n",
    "print(f\"Sorted list_var: {list_var}\")\n",
    "\n",
    "# Reversed sort\n",
    "list_var = [10, 1, 7, 3, 2]\n",
    "list_var.sort(reverse=True)\n",
    "print(f\"Reversed sorted list_var: {list_var}\")"
   ]
  },
  {
   "cell_type": "code",
   "execution_count": 11,
   "metadata": {},
   "outputs": [
    {
     "name": "stdout",
     "output_type": "stream",
     "text": [
      "Initial list: [10, 1, 7, 3, 2]\n",
      "Sorted list: [1, 2, 3, 7, 10]\n",
      "Reversed sorted list: [10, 7, 3, 2, 1]\n"
     ]
    }
   ],
   "source": [
    "# sort() method modifies the sequence in place for economy of space when sorting a large sequence.\n",
    "# If we do not want to modify initial sequence we should use sorted()\n",
    "list_var = [10, 1, 7, 3, 2]\n",
    "sorted_list = sorted(list_var) \n",
    "reversed_sorted_list = sorted(list_var, reverse=True)\n",
    "\n",
    "print(f'Initial list: {list_var}')\n",
    "print(f'Sorted list: {sorted_list}')\n",
    "print(f'Reversed sorted list: {reversed_sorted_list}')"
   ]
  },
  {
   "cell_type": "markdown",
   "metadata": {},
   "source": [
    "The `list` data type has some more methods.\n",
    "\n",
    "Here are all of the methods of list objects:"
   ]
  },
  {
   "cell_type": "code",
   "execution_count": 12,
   "metadata": {},
   "outputs": [
    {
     "name": "stdout",
     "output_type": "stream",
     "text": [
      "list_var: [1]\n"
     ]
    }
   ],
   "source": [
    "# list.append(x)\n",
    "# Add an item to the end of the list\n",
    "list_var = []\n",
    "list_var.append(1) # O(1)\n",
    "print(f'list_var: {list_var}')"
   ]
  },
  {
   "cell_type": "code",
   "execution_count": 13,
   "metadata": {},
   "outputs": [
    {
     "name": "stdout",
     "output_type": "stream",
     "text": [
      "list_var: [1, 2, 3]\n"
     ]
    }
   ],
   "source": [
    "# list.extend(iterable)\n",
    "# Extend the list by appending all the items from the iterable\n",
    "list_var = [1] \n",
    "list_var.extend([2, 3]) # O(m), m - size of concat list\n",
    "print(f'list_var: {list_var}')"
   ]
  },
  {
   "cell_type": "code",
   "execution_count": 14,
   "metadata": {},
   "outputs": [
    {
     "name": "stdout",
     "output_type": "stream",
     "text": [
      "list_var: [42, 1, 2, 3]\n",
      "list_var: [42, 1, 2, 3, 42]\n"
     ]
    }
   ],
   "source": [
    "# list.insert(i, x)\n",
    "# Insert an item at a given position. \n",
    "# The first argument is the index of the element before which to insert, \n",
    "# so a.insert(0, x) inserts at the front of the list, \n",
    "# and a.insert(len(a), x) is equivalent to a.append(x).\n",
    "list_var = [1, 2, 3]\n",
    "list_var.insert(0, 42) # O(n)\n",
    "print(f'list_var: {list_var}')\n",
    "\n",
    "# if i > len(list_var) iitem will be added in the end of list.\n",
    "list_var.insert(10, 42)\n",
    "print(f'list_var: {list_var}')"
   ]
  },
  {
   "cell_type": "code",
   "execution_count": 15,
   "metadata": {},
   "outputs": [
    {
     "name": "stdout",
     "output_type": "stream",
     "text": [
      "list_var: [10, 12, 1]\n",
      "list_var: [10, 12]\n",
      "List contains no 1\n"
     ]
    }
   ],
   "source": [
    "# list.remove(x)\n",
    "# Remove the first item from the list whose value is equal to x. \n",
    "# It raises a ValueError if there is no such item.\n",
    "list_var = [1, 10, 12, 1]\n",
    "list_var.remove(1) # O(n)\n",
    "print(f'list_var: {list_var}')\n",
    "\n",
    "# Let's remove a few more 1 objects\n",
    "list_var.remove(1)\n",
    "print(f'list_var: {list_var}')\n",
    "\n",
    "try:\n",
    "    list_var.remove(1)\n",
    "except ValueError:\n",
    "    print(\"List contains no 1\")"
   ]
  },
  {
   "cell_type": "code",
   "execution_count": 16,
   "metadata": {},
   "outputs": [
    {
     "name": "stdout",
     "output_type": "stream",
     "text": [
      "list_var: [1, 10, 12]\n",
      "last_item: 1\n",
      "list_var: [1, 10]\n",
      "i_elem: 12\n",
      "Got exception: IndexError('pop index out of range',)\n"
     ]
    }
   ],
   "source": [
    "# list.pop([i])\n",
    "# Remove the item at the given position in the list, and return it. \n",
    "# If no index is specified, a.pop() removes and returns the last item in the list.\n",
    "list_var = [1, 10, 12, 1]\n",
    "last_item = list_var.pop() # O(1)\n",
    "print(f'list_var: {list_var}')\n",
    "print(f'last_item: {last_item}')\n",
    "\n",
    "# Let's get intermediate element\n",
    "i_elem = list_var.pop(2) # O(n)\n",
    "print(f'list_var: {list_var}')\n",
    "print(f'i_elem: {i_elem}')\n",
    "\n",
    "# If i > len(list_var) we will get IndexError\n",
    "list_var = [1, 10, 12, 1]\n",
    "try:\n",
    "    list_var.pop(42)\n",
    "except IndexError as e:\n",
    "    print(f'Got exception: {e!r}')"
   ]
  },
  {
   "cell_type": "code",
   "execution_count": 17,
   "metadata": {},
   "outputs": [
    {
     "name": "stdout",
     "output_type": "stream",
     "text": [
      "list_var: []\n"
     ]
    }
   ],
   "source": [
    "# list.clear()\n",
    "# Remove all items from the list.\n",
    "list_var = [1, 10, 12, 1] \n",
    "list_var.clear() # O(n)\n",
    "print(f'list_var: {list_var}')"
   ]
  },
  {
   "cell_type": "code",
   "execution_count": 18,
   "metadata": {},
   "outputs": [
    {
     "name": "stdout",
     "output_type": "stream",
     "text": [
      "Index of 1: 0\n",
      "Index of 1: 1\n",
      "No such item\n"
     ]
    }
   ],
   "source": [
    "# list.index(x[, start[, end]])\n",
    "# Return zero-based index in the list of the first item whose value is equal to x. \n",
    "# Raises a ValueError if there is no such item.\n",
    "\n",
    "# The optional arguments start and end are interpreted as in the slice notation and are used \n",
    "# to limit the search to a particular subsequence of the list. \n",
    "\n",
    "# The returned index is computed relative to the beginning of the full sequence rather than the start argument.\n",
    "list_var = [1, 1, 2, 2, 3, 4]\n",
    "idx = list_var.index(1)\n",
    "print(f'Index of 1: {idx}')\n",
    "\n",
    "# start=1\n",
    "idx = list_var.index(1, 1)\n",
    "print(f'Index of 1: {idx}')\n",
    "\n",
    "try:\n",
    "    # start=0, end=3\n",
    "    idx = list_var.index(3, 0, 4)\n",
    "except ValueError:\n",
    "    print(f'No such item')"
   ]
  },
  {
   "cell_type": "code",
   "execution_count": 19,
   "metadata": {},
   "outputs": [
    {
     "name": "stdout",
     "output_type": "stream",
     "text": [
      "Count of 1: 2\n"
     ]
    }
   ],
   "source": [
    "# list.count(x)\n",
    "# Return the number of times x appears in the list.\n",
    "\n",
    "list_var = [1, 1, 2, 2, 3, 4]\n",
    "count = list_var.count(1) # O(n)\n",
    "print(f'Count of 1: {count}')"
   ]
  },
  {
   "cell_type": "code",
   "execution_count": 20,
   "metadata": {},
   "outputs": [
    {
     "name": "stdout",
     "output_type": "stream",
     "text": [
      "list_var: [4, 3, 2, 2, 1, 1]\n"
     ]
    }
   ],
   "source": [
    "# list.reverse()\n",
    "# Reverse the elements of the list in place.\n",
    "list_var = [1, 1, 2, 2, 3, 4]\n",
    "list_var.reverse() # O(n)\n",
    "\n",
    "print(f'list_var: {list_var}')"
   ]
  },
  {
   "cell_type": "code",
   "execution_count": 21,
   "metadata": {},
   "outputs": [
    {
     "name": "stdout",
     "output_type": "stream",
     "text": [
      "list_var: [1, 1, 2, 2, 3, 4]\n",
      "list_var_copy: [1, 1, 2, 2, 3, 4]\n"
     ]
    }
   ],
   "source": [
    "# list.copy()\n",
    "# Return a shallow copy of the list. Equivalent to a[:]\n",
    "list_var = [1, 1, 2, 2, 3, 4]\n",
    "list_var_copy = list_var.copy() # O(n)\n",
    "\n",
    "print(f'list_var: {list_var}')\n",
    "print(f'list_var_copy: {list_var_copy}')"
   ]
  },
  {
   "cell_type": "code",
   "execution_count": 22,
   "metadata": {},
   "outputs": [
    {
     "name": "stdout",
     "output_type": "stream",
     "text": [
      "list_var: [[1], [1], [1, 2, 3]]\n",
      "list_var_copy: [[1], [1], [1, 2, 3]]\n"
     ]
    }
   ],
   "source": [
    "# Note: You may ask what is `shallow copy`.\n",
    "# Let's look at example\n",
    "list_var = [[], [1], [1, 2, 3]]\n",
    "list_var_copy = list_var.copy()\n",
    "\n",
    "list_var[0].append(1)\n",
    "\n",
    "print(f'list_var: {list_var}')\n",
    "print(f'list_var_copy: {list_var_copy}')"
   ]
  },
  {
   "cell_type": "markdown",
   "metadata": {},
   "source": [
    "You can see that `list_var_copy` is new object collection populated with `references` to the child objects found in the original. \n",
    "\n",
    "In essence, a `shallow copy` is only one level deep. \n",
    "The copying process does not recurse and therefore won’t create copies of the child objects themselves.\n",
    "\n",
    "To avoid such behaviour you should use `deepcopy`"
   ]
  },
  {
   "cell_type": "code",
   "execution_count": 23,
   "metadata": {},
   "outputs": [
    {
     "name": "stdout",
     "output_type": "stream",
     "text": [
      "list_var: [[1], [1], [1, 2, 3]]\n",
      "list_var_copy: [[], [1], [1, 2, 3]]\n"
     ]
    }
   ],
   "source": [
    "from copy import deepcopy\n",
    "\n",
    "list_var = [[], [1], [1, 2, 3]]\n",
    "list_var_copy = deepcopy(list_var)\n",
    "\n",
    "list_var[0].append(1)\n",
    "\n",
    "print(f'list_var: {list_var}')\n",
    "print(f'list_var_copy: {list_var_copy}')"
   ]
  },
  {
   "cell_type": "code",
   "execution_count": 24,
   "metadata": {},
   "outputs": [
    {
     "name": "stdout",
     "output_type": "stream",
     "text": [
      "True\n"
     ]
    }
   ],
   "source": [
    "# Compare two lists\n",
    "print([1, 2, 3] == [1, 2, 3]) # O(n)"
   ]
  },
  {
   "cell_type": "code",
   "execution_count": 25,
   "metadata": {},
   "outputs": [
    {
     "name": "stdout",
     "output_type": "stream",
     "text": [
      "True\n"
     ]
    }
   ],
   "source": [
    "# Check containment\n",
    "print(1 in [1, 2, 3, 4]) # O(n)"
   ]
  },
  {
   "cell_type": "code",
   "execution_count": 26,
   "metadata": {},
   "outputs": [
    {
     "name": "stdout",
     "output_type": "stream",
     "text": [
      "First element: 1\n",
      "list_var: [10, 2, 3, 4]\n"
     ]
    }
   ],
   "source": [
    "# Element access\n",
    "list_var = [1, 2, 3, 4]\n",
    "# Get Item\n",
    "print(f'First element: {list_var[0]}') # O(1)\n",
    "# Set element\n",
    "list_var[0] = 10 # O(1)\n",
    "print(f'list_var: {list_var}')"
   ]
  },
  {
   "cell_type": "code",
   "execution_count": 27,
   "metadata": {},
   "outputs": [
    {
     "name": "stdout",
     "output_type": "stream",
     "text": [
      "list_var: [0, 0, 0, 0, 0, 0, 0, 0, 0, 0]\n"
     ]
    }
   ],
   "source": [
    "# Multiply list\n",
    "list_var = [0]\n",
    "list_var = list_var * 10 # Or simply list_var *= 10\n",
    "print(f'list_var: {list_var}')"
   ]
  },
  {
   "cell_type": "code",
   "execution_count": 28,
   "metadata": {},
   "outputs": [
    {
     "name": "stdout",
     "output_type": "stream",
     "text": [
      "list_var: [[1, 42], [1, 42], [1, 42], [1, 42], [1, 42], [1, 42], [1, 42], [1, 42], [1, 42], [1, 42]]\n"
     ]
    }
   ],
   "source": [
    "# Mutable types problem\n",
    "list_var = [[1]]\n",
    "\n",
    "# You don't create 10 separate lists here, you create 10 references to the same list\n",
    "list_var = list_var * 10\n",
    "list_var[0].append(42)\n",
    "print(f'list_var: {list_var}')"
   ]
  },
  {
   "cell_type": "code",
   "execution_count": 1,
   "metadata": {},
   "outputs": [
    {
     "name": "stdout",
     "output_type": "stream",
     "text": [
      "list_var_1 + list_var_2 = [1, 2, 3, 4, 3, 4, 5, 6]\n"
     ]
    }
   ],
   "source": [
    "# Addition\n",
    "list_var_1 = [1, 2, 3, 4]\n",
    "list_var_2 = [3, 4, 5, 6]\n",
    "print(f'list_var_1 + list_var_2 = {list_var_1 + list_var_2}')"
   ]
  },
  {
   "cell_type": "markdown",
   "metadata": {},
   "source": [
    "## Slice\n",
    "\n",
    "slice(start, stop, step)"
   ]
  },
  {
   "cell_type": "code",
   "execution_count": 6,
   "metadata": {},
   "outputs": [],
   "source": [
    "lst = [0, 1, 2, 3, 4, 5]"
   ]
  },
  {
   "cell_type": "code",
   "execution_count": 18,
   "metadata": {},
   "outputs": [
    {
     "name": "stdout",
     "output_type": "stream",
     "text": [
      "Slice \"0:6\" [0, 1, 2, 3, 4, 5]\n",
      "Slice \"0:\"  [0, 1, 2, 3, 4, 5]\n",
      "Slice \"2:\"  [2, 3, 4, 5]\n",
      "Slice \"-2:\" [4, 5]\n",
      "Slice \":-1\" [0, 1, 2, 3, 4]\n"
     ]
    }
   ],
   "source": [
    "# Slices example\n",
    "print(f'Slice \"0:6\" {lst[0:6]}')\n",
    "print(f'Slice \"0:\"  {lst[0:]}')\n",
    "print(f'Slice \"2:\"  {lst[2:]}')\n",
    "print(f'Slice \"-2:\" {lst[-2:]}')\n",
    "print(f'Slice \":-1\" {lst[:-1]}')"
   ]
  },
  {
   "cell_type": "code",
   "execution_count": 27,
   "metadata": {},
   "outputs": [
    {
     "name": "stdout",
     "output_type": "stream",
     "text": [
      "Slice \"::1\"  [0, 1, 2, 3, 4, 5]\n",
      "Slice \"::2\"  [0, 2, 4]\n",
      "Slice \"::-1\" [5, 4, 3, 2, 1, 0]\n"
     ]
    }
   ],
   "source": [
    "# Extended slices\n",
    "print(f'Slice \"::1\"  {lst[::1]}')\n",
    "print(f'Slice \"::2\"  {lst[::2]}') \n",
    "print(f'Slice \"::-1\" {lst[::-1]}') # step = -1"
   ]
  },
  {
   "cell_type": "code",
   "execution_count": 35,
   "metadata": {},
   "outputs": [
    {
     "name": "stdout",
     "output_type": "stream",
     "text": [
      "Original list: [[], 1, 2, 3]\n",
      "List copy: [[], 10, 2, 3]\n",
      "append to the first element\n",
      "Original list: [[42], 1, 2, 3]\n",
      "List copy: [[42], 10, 2, 3]\n"
     ]
    }
   ],
   "source": [
    "# Shallow copy\n",
    "lst = [[], 1, 2, 3]\n",
    "lst_copy = lst[:]\n",
    "lst_copy[1] = 10\n",
    "\n",
    "print(f'Original list: {lst}')\n",
    "print(f'List copy: {lst_copy}')\n",
    "print('append to the first element')\n",
    "\n",
    "lst[0].append(42)\n",
    "print(f'Original list: {lst}')\n",
    "print(f'List copy: {lst_copy}')"
   ]
  },
  {
   "cell_type": "code",
   "execution_count": 39,
   "metadata": {},
   "outputs": [
    {
     "data": {
      "text/plain": [
       "[0, 3, 4, 5]"
      ]
     },
     "execution_count": 39,
     "metadata": {},
     "output_type": "execute_result"
    }
   ],
   "source": [
    "# Deleting slice\n",
    "lst = [0, \"good\", \"bad\", \"ugly\", 3, 4, 5]\n",
    "del lst[1:4]\n",
    "lst"
   ]
  },
  {
   "cell_type": "code",
   "execution_count": 15,
   "metadata": {},
   "outputs": [
    {
     "data": {
      "text/plain": [
       "0"
      ]
     },
     "execution_count": 15,
     "metadata": {},
     "output_type": "execute_result"
    }
   ],
   "source": [
    "lst.__getitem__(0) # first element -> lst[0]"
   ]
  },
  {
   "cell_type": "code",
   "execution_count": 17,
   "metadata": {},
   "outputs": [
    {
     "data": {
      "text/plain": [
       "[0, 1, 2, 3]"
      ]
     },
     "execution_count": 17,
     "metadata": {},
     "output_type": "execute_result"
    }
   ],
   "source": [
    "lst.__getitem__(slice(0, 4)) # slice of elements -> lst[0:4]"
   ]
  },
  {
   "cell_type": "markdown",
   "metadata": {},
   "source": [
    "## Tuple\n",
    "\n",
    "Tuples are `immutable` sequences, typically used to store collections of heterogeneous data (such as the 2-tuples produced by the `enumerate()` built-in). \n",
    "Tuples are also used for cases where an immutable sequence of homogeneous data is needed (such as allowing storage in a set or dict instance).\n",
    "\n",
    "Tuples support all operations that do not mutate the data structure (and they\n",
    "have the same complexity classes)"
   ]
  },
  {
   "cell_type": "code",
   "execution_count": 30,
   "metadata": {},
   "outputs": [
    {
     "name": "stdout",
     "output_type": "stream",
     "text": [
      "Type of tuple: <class 'tuple'>\n",
      "tuple_var is instance of tuple: True\n"
     ]
    }
   ],
   "source": [
    "tuple_var = 1, 'some_string'\n",
    "print(f'Type of tuple: {type(tuple_var)}')\n",
    "print(f'tuple_var is instance of tuple: {isinstance(tuple_var, tuple)}')"
   ]
  },
  {
   "cell_type": "code",
   "execution_count": 31,
   "metadata": {},
   "outputs": [],
   "source": [
    "# Unpacking\n",
    "tuple_var = 1, 'some_string'\n",
    "number, string = tuple_var"
   ]
  },
  {
   "cell_type": "code",
   "execution_count": 32,
   "metadata": {},
   "outputs": [
    {
     "name": "stdout",
     "output_type": "stream",
     "text": [
      "Check if tuple contains string: True\n"
     ]
    }
   ],
   "source": [
    "# Containment\n",
    "tuple_var = 1, 'some_string', 4, 5\n",
    "print(f'Check if tuple contains string: {\"some_string\" in tuple_var}')"
   ]
  },
  {
   "cell_type": "markdown",
   "metadata": {},
   "source": [
    "## Dictionaries\n",
    "\n",
    "A mapping object maps hashable values to arbitrary objects. Mappings are `mutable` objects. There is currently only one standard mapping type, the `dictionary`."
   ]
  },
  {
   "cell_type": "code",
   "execution_count": 33,
   "metadata": {},
   "outputs": [
    {
     "name": "stdout",
     "output_type": "stream",
     "text": [
      "True\n"
     ]
    }
   ],
   "source": [
    "# Initialization\n",
    "a = dict(one=1, two=2, three=3)\n",
    "b = {'one': 1, 'two': 2, 'three': 3}\n",
    "d = dict([('two', 2), ('one', 1), ('three', 3)])\n",
    "e = dict({'three': 3, 'one': 1, 'two': 2})\n",
    "print(a == b == d == e)"
   ]
  },
  {
   "cell_type": "code",
   "execution_count": 34,
   "metadata": {},
   "outputs": [
    {
     "name": "stdout",
     "output_type": "stream",
     "text": [
      "All keys in dictionary: ['one', 'two', 'three']\n"
     ]
    }
   ],
   "source": [
    "# list(d)\n",
    "# Return a list of all the keys used in the dictionary d.\n",
    "dict_var = {'one': 1, 'two': 2, 'three': 3}\n",
    "print(f'All keys in dictionary: {list(dict_var)}')"
   ]
  },
  {
   "cell_type": "code",
   "execution_count": 35,
   "metadata": {},
   "outputs": [
    {
     "name": "stdout",
     "output_type": "stream",
     "text": [
      "Dictionary length: 3\n"
     ]
    }
   ],
   "source": [
    "# len(d)\n",
    "# Return the number of items in the dictionary d.\n",
    "dict_var = {'one': 1, 'two': 2, 'three': 3}\n",
    "print(f'Dictionary length: {len(dict_var)}') # O(1)"
   ]
  },
  {
   "cell_type": "code",
   "execution_count": 36,
   "metadata": {},
   "outputs": [
    {
     "name": "stdout",
     "output_type": "stream",
     "text": [
      "Get item by key \"one\": 1\n",
      "No such key\n"
     ]
    }
   ],
   "source": [
    "# d[key]\n",
    "# Return the item of d with key key. Raises a KeyError if key is not in the map.\n",
    "dict_var = {'one': 1, 'two': 2, 'three': 3}\n",
    "one_item = dict_var[\"one\"] # O(1)\n",
    "print(f'Get item by key \"one\": {one_item}')\n",
    "\n",
    "try:\n",
    "    dict_var[\"four\"]\n",
    "except KeyError:\n",
    "    print('No such key')"
   ]
  },
  {
   "cell_type": "code",
   "execution_count": 37,
   "metadata": {},
   "outputs": [
    {
     "name": "stdout",
     "output_type": "stream",
     "text": [
      "dict_var: {'one': 1, 'two': 2, 'three': 3, 'four': 4}\n"
     ]
    }
   ],
   "source": [
    "# d[key] = value\n",
    "# Set d[key] to value.\n",
    "dict_var = {'one': 1, 'two': 2, 'three': 3}\n",
    "dict_var[\"four\"] = 4 # O(1)\n",
    "print(f'dict_var: {dict_var}')"
   ]
  },
  {
   "cell_type": "code",
   "execution_count": 38,
   "metadata": {},
   "outputs": [
    {
     "name": "stdout",
     "output_type": "stream",
     "text": [
      "dict_var: {'two': 2, 'three': 3}\n",
      "No such key\n"
     ]
    }
   ],
   "source": [
    "# del d[key]\n",
    "# Remove d[key] from d. Raises a KeyError if key is not in the map.\n",
    "dict_var = {'one': 1, 'two': 2, 'three': 3}\n",
    "del dict_var['one'] # O(1)\n",
    "print(f'dict_var: {dict_var}')\n",
    "\n",
    "try:\n",
    "    del dict_var[\"four\"]\n",
    "except KeyError:\n",
    "    print('No such key')\n"
   ]
  },
  {
   "cell_type": "code",
   "execution_count": 39,
   "metadata": {},
   "outputs": [
    {
     "name": "stdout",
     "output_type": "stream",
     "text": [
      "Key \"one\" is in dict_value: True\n"
     ]
    }
   ],
   "source": [
    "# key in d\n",
    "# Return True if d has a key key, else False.\n",
    "dict_var = {'one': 1, 'two': 2, 'three': 3}\n",
    "print(f'Key \"one\" is in dict_value: {\"one\" in dict_var}')\n"
   ]
  },
  {
   "cell_type": "code",
   "execution_count": 40,
   "metadata": {},
   "outputs": [
    {
     "name": "stdout",
     "output_type": "stream",
     "text": [
      "Item by key \"one\": 1\n",
      "Item by not existent key \"four\": None\n",
      "Item by not existent key \"four\" with default: 4\n"
     ]
    }
   ],
   "source": [
    "# get(key[, default])\n",
    "# Return the value for key if key is in the dictionary, else default. \n",
    "# If default is not given, it defaults to None, so that this method never raises a KeyError.\n",
    "dict_var = {'one': 1, 'two': 2, 'three': 3}\n",
    "\n",
    "one_item = dict_var.get('one') # O(1) \n",
    "not_exist_item = dict_var.get('four') # O(1)\n",
    "not_exist_item_default = dict_var.get('four', 4) # O(1)\n",
    "\n",
    "print(f'Item by key \"one\": {one_item}')\n",
    "print(f'Item by not existent key \"four\": {not_exist_item}')\n",
    "print(f'Item by not existent key \"four\" with default: {not_exist_item_default}')"
   ]
  },
  {
   "cell_type": "code",
   "execution_count": 41,
   "metadata": {},
   "outputs": [
    {
     "name": "stdout",
     "output_type": "stream",
     "text": [
      "dict_var items: dict_items([('one', 1), ('two', 2), ('three', 3)])\n",
      "dict_var items: dict_items([('one', 1), ('two', 2), ('three', 3), ('four', 4)])\n"
     ]
    }
   ],
   "source": [
    "# items()\n",
    "# Return a new view of the dictionary’s items ((key, value) tuples).\n",
    "dict_var = {'one': 1, 'two': 2, 'three': 3}\n",
    "dict_items = dict_var.items()\n",
    "print(f'dict_var items: {dict_items}')\n",
    "\n",
    "# if we mutate dictionary dict_items will change accordingly  \n",
    "dict_var[\"four\"] = 4\n",
    "print(f'dict_var items: {dict_items}')"
   ]
  },
  {
   "cell_type": "code",
   "execution_count": 42,
   "metadata": {},
   "outputs": [
    {
     "name": "stdout",
     "output_type": "stream",
     "text": [
      "dict_var keys: dict_keys(['one', 'two', 'three'])\n",
      "dict_var keys: dict_keys(['one', 'two', 'three', 'four'])\n"
     ]
    }
   ],
   "source": [
    "# keys()\n",
    "# Return a new view of the dictionary’s keys.\n",
    "dict_var = {'one': 1, 'two': 2, 'three': 3}\n",
    "dict_keys = dict_var.keys()\n",
    "print(f'dict_var keys: {dict_keys}')\n",
    "\n",
    "# if we mutate dictionary dict_keys will change accordingly  \n",
    "dict_var[\"four\"] = 4\n",
    "print(f'dict_var keys: {dict_keys}')"
   ]
  },
  {
   "cell_type": "code",
   "execution_count": 43,
   "metadata": {},
   "outputs": [
    {
     "name": "stdout",
     "output_type": "stream",
     "text": [
      "Popped item by key \"one\": 1\n",
      "Popped item with default by not existent key \"four\": None\n"
     ]
    }
   ],
   "source": [
    "# pop(key[, default])\n",
    "# If key is in the dictionary, remove it and return its value, else return default. \n",
    "# If default is not given and key is not in the dictionary, a KeyError is raised.\n",
    "dict_var = {'one': 1, 'two': 2, 'three': 3}\n",
    "one_item = dict_var.pop('one') # O(1)\n",
    "print(f'Popped item by key \"one\": {one_item}')\n",
    "\n",
    "non_existent_item = one_item = dict_var.pop('four', None)\n",
    "print(f'Popped item with default by not existent key \"four\": {non_existent_item}')"
   ]
  },
  {
   "cell_type": "code",
   "execution_count": 44,
   "metadata": {},
   "outputs": [
    {
     "name": "stdout",
     "output_type": "stream",
     "text": [
      "Updated dict_var: {'one': 1, 'two': 2, 'three': None, 'four': 4}\n"
     ]
    }
   ],
   "source": [
    "# update([other])\n",
    "# Update the dictionary with the key/value pairs from other, overwriting existing keys. Return None.\n",
    "dict_var = {'one': 1, 'two': 2, 'three': 3}\n",
    "dict_var_update = {'three': None, 'four': 4}\n",
    "dict_var.update(dict_var_update) # O(k) - k is len(dict_var_update)\n",
    "print(f'Updated dict_var: {dict_var}')"
   ]
  },
  {
   "cell_type": "code",
   "execution_count": 45,
   "metadata": {},
   "outputs": [
    {
     "data": {
      "text/plain": [
       "False"
      ]
     },
     "execution_count": 45,
     "metadata": {},
     "output_type": "execute_result"
    }
   ],
   "source": [
    "# Dictionaries compare equal if and only if they have the same (key, value) pairs (regardless of ordering). \n",
    "# Order comparisons (‘<’, ‘<=’, ‘>=’, ‘>’) raise TypeError.\n",
    "dict_var = {'one': 1, 'two': 2, 'three': 3}\n",
    "dict_var_update = {'three': None, 'four': 4}\n",
    "\n",
    "dict_var == dict_var_update"
   ]
  },
  {
   "cell_type": "markdown",
   "metadata": {},
   "source": [
    "## Set\n",
    "\n",
    "A set object is an `unordered` `mutable` collection of distinct `hashable` objects. Common uses include membership testing, removing duplicates from a sequence, and computing mathematical operations such as intersection, union, difference, and symmetric difference."
   ]
  },
  {
   "cell_type": "code",
   "execution_count": 46,
   "metadata": {},
   "outputs": [
    {
     "name": "stdout",
     "output_type": "stream",
     "text": [
      "set_var: {1, 2, 3, 4}\n"
     ]
    }
   ],
   "source": [
    "# Initialization\n",
    "set_var = {1, 2, 3, 4, 4, 4}\n",
    "set_var = set([1, 2, 3, 4, 4, 4])\n",
    "\n",
    "print(f'set_var: {set_var}')"
   ]
  },
  {
   "cell_type": "code",
   "execution_count": 47,
   "metadata": {},
   "outputs": [
    {
     "name": "stdout",
     "output_type": "stream",
     "text": [
      "set length: 4\n"
     ]
    }
   ],
   "source": [
    "# len(s)\n",
    "# Return the number of elements in set s (cardinality of s).\n",
    "set_var = {1, 2, 3, 4, 4, 4}\n",
    "print(f'set length: {len(set_var)}')"
   ]
  },
  {
   "cell_type": "code",
   "execution_count": 48,
   "metadata": {},
   "outputs": [
    {
     "name": "stdout",
     "output_type": "stream",
     "text": [
      "Item is in set: True\n"
     ]
    }
   ],
   "source": [
    "# x in s\n",
    "# Test x for membership in s.\n",
    "set_var = {1, 2, 3, 4, 4, 4}\n",
    "print(f'Item is in set: {1 in set_var}')"
   ]
  },
  {
   "cell_type": "code",
   "execution_count": 49,
   "metadata": {},
   "outputs": [
    {
     "name": "stdout",
     "output_type": "stream",
     "text": [
      "Is set disjoint: True\n"
     ]
    }
   ],
   "source": [
    "# isdisjoint(other)\n",
    "# Return True if the set has no elements in common with other. \n",
    "# Sets are disjoint if and only if their intersection is the empty set.\n",
    "set_var = {1, 2, 3, 4, 4, 4}\n",
    "print(f'Is set disjoint: {set_var.isdisjoint({5, 6, 7})}')"
   ]
  },
  {
   "cell_type": "code",
   "execution_count": 50,
   "metadata": {},
   "outputs": [
    {
     "name": "stdout",
     "output_type": "stream",
     "text": [
      "Is subset: True\n"
     ]
    }
   ],
   "source": [
    "# issubset(other)\n",
    "# set <= other\n",
    "# Test whether every element in the set is in other.\n",
    "set_1 = {1, 2, 3}\n",
    "set_2 = {1, 2, 3, 4, 5}\n",
    "print(f'Is subset: {set_1 <= set_2}')"
   ]
  },
  {
   "cell_type": "code",
   "execution_count": 51,
   "metadata": {},
   "outputs": [
    {
     "name": "stdout",
     "output_type": "stream",
     "text": [
      "Is proper subset: False\n"
     ]
    }
   ],
   "source": [
    "# set < other\n",
    "# Test whether the set is a proper subset of other, that is, set <= other and set != other.\n",
    "set_1 = {1, 2, 3}\n",
    "set_2 = {1, 2, 3}\n",
    "print(f'Is proper subset: {set_1 < set_2}')"
   ]
  },
  {
   "cell_type": "code",
   "execution_count": 52,
   "metadata": {},
   "outputs": [
    {
     "name": "stdout",
     "output_type": "stream",
     "text": [
      "Is superset: True\n"
     ]
    }
   ],
   "source": [
    "# issuperset(other)\n",
    "# set >= other\n",
    "# Test whether every element in other is in the set.\n",
    "set_1 = {1, 2, 3, 4, 5}\n",
    "set_2 = {1, 2, 3}\n",
    "print(f'Is superset: {set_1 >= set_2}')"
   ]
  },
  {
   "cell_type": "code",
   "execution_count": 53,
   "metadata": {},
   "outputs": [
    {
     "name": "stdout",
     "output_type": "stream",
     "text": [
      "Is proper superset: True\n"
     ]
    }
   ],
   "source": [
    "# set > other\n",
    "# Test whether the set is a proper superset of other, that is, set >= other and set != other.\n",
    "set_1 = {1, 2, 3, 4, 5}\n",
    "set_2 = {1, 2, 3}\n",
    "print(f'Is proper superset: {set_1 >= set_2}')"
   ]
  },
  {
   "cell_type": "code",
   "execution_count": 54,
   "metadata": {},
   "outputs": [
    {
     "name": "stdout",
     "output_type": "stream",
     "text": [
      "Union: {1, 2, 3, 4, 5, 6, 7}\n"
     ]
    }
   ],
   "source": [
    "# union(*others)\n",
    "# set | other | ...\n",
    "# Return a new set with elements from the set and all others.\n",
    "set_1 = {1, 2, 3, 4, 5}\n",
    "set_2 = {1, 2, 3}\n",
    "set_3 = {4, 5, 6, 7}\n",
    "\n",
    "union_set = set_1 | set_2 | set_3\n",
    "print(f'Union: {union_set}')"
   ]
  },
  {
   "cell_type": "code",
   "execution_count": 55,
   "metadata": {},
   "outputs": [
    {
     "name": "stdout",
     "output_type": "stream",
     "text": [
      "Intersection: {1, 2}\n"
     ]
    }
   ],
   "source": [
    "# intersection(*others)\n",
    "# set & other & ...\n",
    "# Return a new set with elements common to the set and all others.\n",
    "set_1 = {1, 2, 3, 4, 5}\n",
    "set_2 = {1, 2, 3}\n",
    "set_3 = {1, 2, 4, 5, 6, 7}\n",
    "\n",
    "intersection_set = set_1 & set_2 & set_3\n",
    "print(f'Intersection: {intersection_set}')"
   ]
  },
  {
   "cell_type": "code",
   "execution_count": 56,
   "metadata": {},
   "outputs": [
    {
     "name": "stdout",
     "output_type": "stream",
     "text": [
      "Difference: {1, 2}\n"
     ]
    }
   ],
   "source": [
    "# difference(*others)\n",
    "# set - other - ...\n",
    "# Return a new set with elements in the set that are not in the others.\n",
    "set_1 = {1, 2, 3, 4, 5}\n",
    "set_2 = {1, 2, 3}\n",
    "\n",
    "difference_set = set_1 - set_2\n",
    "print(f'Difference: {intersection_set}')"
   ]
  },
  {
   "cell_type": "code",
   "execution_count": 57,
   "metadata": {},
   "outputs": [
    {
     "name": "stdout",
     "output_type": "stream",
     "text": [
      "Symetric difference: {4, 5}\n"
     ]
    }
   ],
   "source": [
    "# symmetric_difference(other)\n",
    "# set ^ other\n",
    "# Return a new set with elements in either the set or other but not both.\n",
    "set_1 = {1, 2, 3, 4, 5}\n",
    "set_2 = {1, 2, 3}\n",
    "\n",
    "symmetric_difference_set = set_1 ^ set_2\n",
    "print(f'Symetric difference: {symmetric_difference_set}')"
   ]
  },
  {
   "cell_type": "markdown",
   "metadata": {},
   "source": [
    "## Strings\n",
    "\n",
    "Textual data in Python is handled with `str` objects, or strings. Strings are `immutable` sequences of Unicode code points. String literals are written in a variety of ways:\n",
    "\n",
    "* `Single quotes: 'allows embedded \"double\" quotes'`\n",
    "* `Double quotes: \"allows embedded 'single' quotes\".`\n",
    "* `Triple quoted: '''Three single quotes''', \"\"\"Three double quotes\"\"\"`\n",
    "* `Triple quoted strings may span multiple lines - all associated whitespace will be included in the string literal.`\n",
    "\n",
    "String literals that are part of a single expression and have only whitespace between them will be implicitly converted to a single string literal. That is, `(\"spam \" \"eggs\") == \"spam eggs\"`.\n",
    "\n",
    "Full huge list of string methods you cat find at [link](https://docs.python.org/3.7/library/stdtypes.html?highlight=tuple#text-sequence-type-str)."
   ]
  },
  {
   "cell_type": "code",
   "execution_count": 58,
   "metadata": {},
   "outputs": [],
   "source": [
    "# str()\n",
    "# Return a string version of object. If object is not provided, returns the empty string. \n",
    "empty_string = str()\n",
    "# Or\n",
    "empty_string_1 = ''"
   ]
  },
  {
   "cell_type": "code",
   "execution_count": 59,
   "metadata": {},
   "outputs": [
    {
     "name": "stdout",
     "output_type": "stream",
     "text": [
      "String split lines: ['one', 'two', 'three']\n",
      "String type: <class 'str'>\n",
      "Split string: ['one,', 'two,', 'three']\n",
      "Split string with delimiter ['one', ' two', ' three']\n"
     ]
    }
   ],
   "source": [
    "string = \"one\\ntwo\\nthree\\n\"\n",
    "print(f'String split lines: {string.splitlines()}')\n",
    "print(f'String type: {type(string)}') \n",
    "\n",
    "string = \"one, two, three\"\n",
    "print(f'Split string: {string.split()}')\n",
    "print(f'Split string with delimiter {string.split(\",\")}')\n"
   ]
  },
  {
   "cell_type": "code",
   "execution_count": 60,
   "metadata": {},
   "outputs": [
    {
     "name": "stdout",
     "output_type": "stream",
     "text": [
      "Join strings in iterable: supercalifragilisticexpialidocious\n",
      "Join strings in iterable: supercalifragilisticexpialidocious\n",
      "Join strings in iterable with space delimiter: super cali fragilistic expiali docious\n",
      "Join strings in iterable with \"+\" delimiter: super+cali+fragilistic+expiali+docious\n"
     ]
    }
   ],
   "source": [
    "# join()\n",
    "parts = ['super', 'cali', 'fragilistic', 'expiali', 'docious']\n",
    "\n",
    "print(f'Join strings in iterable: {str().join(parts)}')\n",
    "print(f'Join strings in iterable: {\"\".join(parts)}')\n",
    "\n",
    "print(f'Join strings in iterable with space delimiter: {\" \".join(parts)}')\n",
    "print(f'Join strings in iterable with \"+\" delimiter: {\"+\".join(parts)}')"
   ]
  },
  {
   "cell_type": "code",
   "execution_count": 61,
   "metadata": {
    "scrolled": true
   },
   "outputs": [
    {
     "name": "stdout",
     "output_type": "stream",
     "text": [
      "Is string in lower case False\n",
      "String in lower case hello\n",
      "True\n",
      "Replaced string: llo  HE he\n"
     ]
    }
   ],
   "source": [
    "string = \"Hello\"\n",
    "\n",
    "print(f'Is string in lower case {string.islower()}')\n",
    "\n",
    "lower_string = string.lower()\n",
    "print(f'String in lower case {lower_string}')\n",
    "\n",
    "chain_condition = string.lower().islower()\n",
    "print(chain_condition)\n",
    "\n",
    "\n",
    "string = \"Hello He HE he\"\n",
    "replaced_string = string.replace(\"He\", \"\")\n",
    "print(f'Replaced string: {replaced_string}')"
   ]
  }
 ],
 "metadata": {
  "kernelspec": {
   "display_name": "Python 3",
   "language": "python",
   "name": "python3"
  },
  "language_info": {
   "codemirror_mode": {
    "name": "ipython",
    "version": 3
   },
   "file_extension": ".py",
   "mimetype": "text/x-python",
   "name": "python",
   "nbconvert_exporter": "python",
   "pygments_lexer": "ipython3",
   "version": "3.6.7rc1"
  }
 },
 "nbformat": 4,
 "nbformat_minor": 2
}
