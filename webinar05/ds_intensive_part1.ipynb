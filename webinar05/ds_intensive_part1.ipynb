{
  "nbformat": 4,
  "nbformat_minor": 0,
  "metadata": {
    "colab": {
      "provenance": []
    },
    "kernelspec": {
      "name": "python3",
      "display_name": "Python 3"
    },
    "language_info": {
      "name": "python"
    },
    "gpuClass": "standard"
  },
  "cells": [
    {
      "cell_type": "markdown",
      "source": [
        "# Content"
      ],
      "metadata": {
        "id": "NNc8rgzTnJjk"
      }
    },
    {
      "cell_type": "markdown",
      "source": [
        "0. Warm-up :)\n",
        "1. **IPython**\n",
        "2. Numpy\n",
        "3. Pandas\n",
        "4. Matplotlib\n",
        "5. Seaborn\n",
        "6. Plotly\n",
        "7. Extra homework (:"
      ],
      "metadata": {
        "id": "NtZcJMOZnUZX"
      }
    },
    {
      "cell_type": "markdown",
      "source": [
        "# Interactive Python\n"
      ],
      "metadata": {
        "id": "s28_wiNdoFo1"
      }
    },
    {
      "cell_type": "markdown",
      "source": [
        "## In and Out"
      ],
      "metadata": {
        "id": "El84a85VoY3H"
      }
    },
    {
      "cell_type": "markdown",
      "source": [
        "Let's  run any code with visible output:"
      ],
      "metadata": {
        "id": "6z7es1TQ1zH0"
      }
    },
    {
      "cell_type": "code",
      "source": [
        "help(vars)"
      ],
      "metadata": {
        "colab": {
          "base_uri": "https://localhost:8080/"
        },
        "id": "WDSrsphoklbY",
        "outputId": "50ccb425-1078-4b86-c06a-6fe94a0392e6"
      },
      "execution_count": null,
      "outputs": [
        {
          "output_type": "stream",
          "name": "stdout",
          "text": [
            "Help on built-in function vars in module builtins:\n",
            "\n",
            "vars(...)\n",
            "    vars([object]) -> dictionary\n",
            "    \n",
            "    Without arguments, equivalent to locals().\n",
            "    With an argument, equivalent to object.__dict__.\n",
            "\n"
          ]
        }
      ]
    },
    {
      "cell_type": "code",
      "source": [
        "'In' in vars() and \"Out\" in vars()"
      ],
      "metadata": {
        "colab": {
          "base_uri": "https://localhost:8080/"
        },
        "id": "G4wLpMIP19Bd",
        "outputId": "4f4da29b-8829-49fb-e282-bcaeaaa63f85"
      },
      "execution_count": null,
      "outputs": [
        {
          "output_type": "execute_result",
          "data": {
            "text/plain": [
              "True"
            ]
          },
          "metadata": {},
          "execution_count": 2
        }
      ]
    },
    {
      "cell_type": "code",
      "source": [
        "type(In)"
      ],
      "metadata": {
        "colab": {
          "base_uri": "https://localhost:8080/"
        },
        "id": "2KB6oxckouh9",
        "outputId": "568de2da-3ae9-4d43-f701-b9977137dd70"
      },
      "execution_count": null,
      "outputs": [
        {
          "output_type": "execute_result",
          "data": {
            "text/plain": [
              "list"
            ]
          },
          "metadata": {},
          "execution_count": 3
        }
      ]
    },
    {
      "cell_type": "code",
      "source": [
        "type(Out)"
      ],
      "metadata": {
        "colab": {
          "base_uri": "https://localhost:8080/"
        },
        "id": "GkVP9v0lo2HO",
        "outputId": "925b5153-bdd8-467b-d2b2-e1e124c8f4cf"
      },
      "execution_count": null,
      "outputs": [
        {
          "output_type": "execute_result",
          "data": {
            "text/plain": [
              "dict"
            ]
          },
          "metadata": {},
          "execution_count": 4
        }
      ]
    },
    {
      "cell_type": "code",
      "source": [
        "In"
      ],
      "metadata": {
        "colab": {
          "base_uri": "https://localhost:8080/"
        },
        "id": "m4n_bO08og38",
        "outputId": "f2a97f34-cd65-4a39-fbf7-632d720a0be4"
      },
      "execution_count": null,
      "outputs": [
        {
          "output_type": "execute_result",
          "data": {
            "text/plain": [
              "['',\n",
              " 'help(vars)',\n",
              " '\\'In\\' in vars() and \"Out\" in vars()',\n",
              " 'type(In)',\n",
              " 'type(Out)',\n",
              " 'In']"
            ]
          },
          "metadata": {},
          "execution_count": 5
        }
      ]
    },
    {
      "cell_type": "code",
      "source": [
        "In[1]"
      ],
      "metadata": {
        "colab": {
          "base_uri": "https://localhost:8080/",
          "height": 36
        },
        "id": "_iWfOSrjyA74",
        "outputId": "2dc937e0-0ff5-4963-dcd2-1f54ddd22f89"
      },
      "execution_count": null,
      "outputs": [
        {
          "output_type": "execute_result",
          "data": {
            "text/plain": [
              "'help(vars)'"
            ],
            "application/vnd.google.colaboratory.intrinsic+json": {
              "type": "string"
            }
          },
          "metadata": {},
          "execution_count": 6
        }
      ]
    },
    {
      "cell_type": "code",
      "source": [
        "Out"
      ],
      "metadata": {
        "colab": {
          "base_uri": "https://localhost:8080/"
        },
        "id": "FNN3aaQsosTN",
        "outputId": "b2924053-2fa4-4d1b-82bc-c0bedc269b72"
      },
      "execution_count": null,
      "outputs": [
        {
          "output_type": "execute_result",
          "data": {
            "text/plain": [
              "{2: True,\n",
              " 3: list,\n",
              " 4: dict,\n",
              " 5: ['',\n",
              "  'help(vars)',\n",
              "  '\\'In\\' in vars() and \"Out\" in vars()',\n",
              "  'type(In)',\n",
              "  'type(Out)',\n",
              "  'In',\n",
              "  'In[1]',\n",
              "  'Out'],\n",
              " 6: 'help(vars)'}"
            ]
          },
          "metadata": {},
          "execution_count": 7
        }
      ]
    },
    {
      "cell_type": "markdown",
      "source": [
        "The Out object is not a list but a dictionary mapping input numbers to their outputs (if any):"
      ],
      "metadata": {
        "id": "Kbv8SFYd0eOS"
      }
    },
    {
      "cell_type": "code",
      "source": [
        "Out[3]"
      ],
      "metadata": {
        "colab": {
          "base_uri": "https://localhost:8080/"
        },
        "id": "NP0ULrZnyIWk",
        "outputId": "89e30aa2-8422-4d40-d487-bd36a1b60cd8"
      },
      "execution_count": null,
      "outputs": [
        {
          "output_type": "execute_result",
          "data": {
            "text/plain": [
              "list"
            ]
          },
          "metadata": {},
          "execution_count": 8
        }
      ]
    },
    {
      "cell_type": "markdown",
      "source": [
        "Some more tips:\n"
      ],
      "metadata": {
        "id": "5zQJQ1NEx7HM"
      }
    },
    {
      "cell_type": "markdown",
      "source": [
        "\n",
        "Out[N] is _N"
      ],
      "metadata": {
        "id": "SfYe9AFk1Ns3"
      }
    },
    {
      "cell_type": "code",
      "source": [
        "_3"
      ],
      "metadata": {
        "id": "g82_WZI5o7dV",
        "colab": {
          "base_uri": "https://localhost:8080/"
        },
        "outputId": "350850b2-fbe4-454e-e15a-7a823377ca61"
      },
      "execution_count": null,
      "outputs": [
        {
          "output_type": "execute_result",
          "data": {
            "text/plain": [
              "list"
            ]
          },
          "metadata": {},
          "execution_count": 9
        }
      ]
    },
    {
      "cell_type": "markdown",
      "source": [
        "The easiest way to suppress the output of a command is to add a semicolon to the end of the line"
      ],
      "metadata": {
        "id": "rxLi5VmoyuKJ"
      }
    },
    {
      "cell_type": "code",
      "source": [
        "42 ** 42"
      ],
      "metadata": {
        "colab": {
          "base_uri": "https://localhost:8080/"
        },
        "id": "zKNK3Hscy2kb",
        "outputId": "e521d112-c7e4-476a-9c79-7c372403e94c"
      },
      "execution_count": null,
      "outputs": [
        {
          "output_type": "execute_result",
          "data": {
            "text/plain": [
              "150130937545296572356771972164254457814047970568738777235893533016064"
            ]
          },
          "metadata": {},
          "execution_count": 10
        }
      ]
    },
    {
      "cell_type": "code",
      "source": [
        "42 ** 42;"
      ],
      "metadata": {
        "id": "T1hyfQPFyRud"
      },
      "execution_count": null,
      "outputs": []
    },
    {
      "cell_type": "code",
      "source": [
        "11 in Out"
      ],
      "metadata": {
        "colab": {
          "base_uri": "https://localhost:8080/"
        },
        "id": "f3jHRzWry4ZY",
        "outputId": "62763e2c-50c6-465e-a5b2-76913518e082"
      },
      "execution_count": null,
      "outputs": [
        {
          "output_type": "execute_result",
          "data": {
            "text/plain": [
              "False"
            ]
          },
          "metadata": {},
          "execution_count": 12
        }
      ]
    },
    {
      "cell_type": "markdown",
      "source": [
        "## Magic Commands"
      ],
      "metadata": {
        "id": "gq8EWeTjzeIJ"
      }
    },
    {
      "cell_type": "markdown",
      "source": [
        "% - line magic - single line of input\n",
        "\n",
        "%% - cell magic - multiple lines of input"
      ],
      "metadata": {
        "id": "e8IVxZCv7Ikw"
      }
    },
    {
      "cell_type": "code",
      "source": [
        "%magic"
      ],
      "metadata": {
        "id": "OddBnvsx9A_i"
      },
      "execution_count": 13,
      "outputs": []
    },
    {
      "cell_type": "code",
      "source": [
        "%lsmagic"
      ],
      "metadata": {
        "id": "im8myIz49OkA",
        "colab": {
          "base_uri": "https://localhost:8080/",
          "height": 0
        },
        "outputId": "add7257c-1135-4212-fac0-924212f3841f"
      },
      "execution_count": 14,
      "outputs": [
        {
          "output_type": "execute_result",
          "data": {
            "text/plain": [
              "Available line magics:\n",
              "%alias  %alias_magic  %autoawait  %autocall  %automagic  %autosave  %bookmark  %cat  %cd  %clear  %colors  %conda  %config  %connect_info  %cp  %debug  %dhist  %dirs  %doctest_mode  %ed  %edit  %env  %gui  %hist  %history  %killbgscripts  %ldir  %less  %lf  %lk  %ll  %load  %load_ext  %loadpy  %logoff  %logon  %logstart  %logstate  %logstop  %ls  %lsmagic  %lx  %macro  %magic  %man  %matplotlib  %mkdir  %more  %mv  %notebook  %page  %pastebin  %pdb  %pdef  %pdoc  %pfile  %pinfo  %pinfo2  %pip  %popd  %pprint  %precision  %prun  %psearch  %psource  %pushd  %pwd  %pycat  %pylab  %qtconsole  %quickref  %recall  %rehashx  %reload_ext  %rep  %rerun  %reset  %reset_selective  %rm  %rmdir  %run  %save  %sc  %set_env  %shell  %store  %sx  %system  %tb  %tensorflow_version  %time  %timeit  %unalias  %unload_ext  %who  %who_ls  %whos  %xdel  %xmode\n",
              "\n",
              "Available cell magics:\n",
              "%%!  %%HTML  %%SVG  %%bash  %%bigquery  %%capture  %%debug  %%file  %%html  %%javascript  %%js  %%latex  %%markdown  %%perl  %%prun  %%pypy  %%python  %%python2  %%python3  %%ruby  %%script  %%sh  %%shell  %%svg  %%sx  %%system  %%time  %%timeit  %%writefile\n",
              "\n",
              "Automagic is ON, % prefix IS NOT needed for line magics."
            ],
            "application/json": {
              "line": {
                "automagic": "AutoMagics",
                "autocall": "AutoMagics",
                "alias_magic": "BasicMagics",
                "lsmagic": "BasicMagics",
                "magic": "BasicMagics",
                "page": "BasicMagics",
                "pprint": "BasicMagics",
                "colors": "BasicMagics",
                "xmode": "BasicMagics",
                "quickref": "BasicMagics",
                "doctest_mode": "BasicMagics",
                "gui": "BasicMagics",
                "precision": "BasicMagics",
                "notebook": "BasicMagics",
                "save": "CodeMagics",
                "pastebin": "CodeMagics",
                "loadpy": "CodeMagics",
                "load": "CodeMagics",
                "edit": "KernelMagics",
                "config": "ConfigMagics",
                "prun": "ExecutionMagics",
                "pdb": "ExecutionMagics",
                "debug": "ExecutionMagics",
                "tb": "ExecutionMagics",
                "run": "ExecutionMagics",
                "timeit": "ExecutionMagics",
                "time": "ExecutionMagics",
                "macro": "ExecutionMagics",
                "load_ext": "ExtensionMagics",
                "unload_ext": "ExtensionMagics",
                "reload_ext": "ExtensionMagics",
                "history": "HistoryMagics",
                "recall": "HistoryMagics",
                "rerun": "HistoryMagics",
                "logstart": "LoggingMagics",
                "logstop": "LoggingMagics",
                "logoff": "LoggingMagics",
                "logon": "LoggingMagics",
                "logstate": "LoggingMagics",
                "pinfo": "NamespaceMagics",
                "pinfo2": "NamespaceMagics",
                "pdef": "NamespaceMagics",
                "pdoc": "NamespaceMagics",
                "psource": "NamespaceMagics",
                "pfile": "NamespaceMagics",
                "psearch": "NamespaceMagics",
                "who_ls": "NamespaceMagics",
                "who": "NamespaceMagics",
                "whos": "NamespaceMagics",
                "reset": "NamespaceMagics",
                "reset_selective": "NamespaceMagics",
                "xdel": "NamespaceMagics",
                "alias": "OSMagics",
                "unalias": "OSMagics",
                "rehashx": "OSMagics",
                "pwd": "OSMagics",
                "cd": "OSMagics",
                "env": "OSMagics",
                "set_env": "OSMagics",
                "pushd": "OSMagics",
                "popd": "OSMagics",
                "dirs": "OSMagics",
                "dhist": "OSMagics",
                "sc": "OSMagics",
                "sx": "OSMagics",
                "system": "OSMagics",
                "bookmark": "OSMagics",
                "pycat": "OSMagics",
                "pip": "Other",
                "conda": "PackagingMagics",
                "matplotlib": "PylabMagics",
                "pylab": "PylabMagics",
                "killbgscripts": "ScriptMagics",
                "autoawait": "AsyncMagics",
                "ed": "Other",
                "hist": "Other",
                "rep": "Other",
                "clear": "KernelMagics",
                "less": "KernelMagics",
                "more": "KernelMagics",
                "man": "KernelMagics",
                "connect_info": "KernelMagics",
                "qtconsole": "KernelMagics",
                "autosave": "KernelMagics",
                "mkdir": "Other",
                "rmdir": "Other",
                "mv": "Other",
                "rm": "Other",
                "cp": "Other",
                "cat": "Other",
                "ls": "Other",
                "ll": "Other",
                "lf": "Other",
                "lk": "Other",
                "ldir": "Other",
                "lx": "Other",
                "store": "StoreMagics",
                "shell": "Other",
                "tensorflow_version": "Other"
              },
              "cell": {
                "js": "DisplayMagics",
                "javascript": "DisplayMagics",
                "latex": "DisplayMagics",
                "svg": "DisplayMagics",
                "html": "DisplayMagics",
                "markdown": "DisplayMagics",
                "prun": "ExecutionMagics",
                "debug": "ExecutionMagics",
                "timeit": "ExecutionMagics",
                "time": "ExecutionMagics",
                "capture": "ExecutionMagics",
                "sx": "OSMagics",
                "system": "OSMagics",
                "!": "OSMagics",
                "writefile": "OSMagics",
                "script": "ScriptMagics",
                "sh": "Other",
                "bash": "Other",
                "perl": "Other",
                "ruby": "Other",
                "python": "Other",
                "python2": "Other",
                "python3": "Other",
                "pypy": "Other",
                "SVG": "Other",
                "HTML": "Other",
                "file": "Other",
                "bigquery": "Other",
                "shell": "Other"
              }
            }
          },
          "metadata": {},
          "execution_count": 14
        }
      ]
    },
    {
      "cell_type": "code",
      "source": [
        "%%writefile?"
      ],
      "metadata": {
        "id": "kISP4wWe-R5q"
      },
      "execution_count": 15,
      "outputs": []
    },
    {
      "cell_type": "code",
      "source": [
        "%%writefile script.py\n",
        "\n",
        "def hello_printer():\n",
        "    print('one more hello world')\n",
        "\n",
        "\n",
        "hello_printer()"
      ],
      "metadata": {
        "id": "k3v-HUml-xC5",
        "colab": {
          "base_uri": "https://localhost:8080/"
        },
        "outputId": "79c63abe-574c-427c-c971-8e0f35529712"
      },
      "execution_count": 16,
      "outputs": [
        {
          "output_type": "stream",
          "name": "stdout",
          "text": [
            "Writing script.py\n"
          ]
        }
      ]
    },
    {
      "cell_type": "markdown",
      "source": [
        "You can run external code with the %run magic:"
      ],
      "metadata": {
        "id": "MEpc8QQFABmH"
      }
    },
    {
      "cell_type": "markdown",
      "source": [
        "Automagic is ON, % prefix IS NOT needed for line magics!"
      ],
      "metadata": {
        "id": "SXcJoFmu9UPE"
      }
    },
    {
      "cell_type": "code",
      "source": [
        "run script.py"
      ],
      "metadata": {
        "id": "kAxnDPKu-DKM",
        "colab": {
          "base_uri": "https://localhost:8080/"
        },
        "outputId": "79e35522-1101-4875-f324-aec83759bc8a"
      },
      "execution_count": 17,
      "outputs": [
        {
          "output_type": "stream",
          "name": "stdout",
          "text": [
            "one more hello world\n"
          ]
        }
      ]
    },
    {
      "cell_type": "code",
      "source": [
        "hello_printer()"
      ],
      "metadata": {
        "id": "hZTmoJRz_2Gf",
        "colab": {
          "base_uri": "https://localhost:8080/"
        },
        "outputId": "193d4741-8435-4208-e4b0-9dcd194d2fb4"
      },
      "execution_count": 18,
      "outputs": [
        {
          "output_type": "stream",
          "name": "stdout",
          "text": [
            "one more hello world\n"
          ]
        }
      ]
    },
    {
      "cell_type": "code",
      "source": [
        "%timeit lst = [n ** 2 for n in range(10_000_000)]"
      ],
      "metadata": {
        "id": "6tNwHmLhAxvs",
        "colab": {
          "base_uri": "https://localhost:8080/"
        },
        "outputId": "5f9c037e-5abd-4c80-e91f-e7445ea4b297"
      },
      "execution_count": 21,
      "outputs": [
        {
          "output_type": "stream",
          "name": "stdout",
          "text": [
            "3.08 s ± 69.7 ms per loop (mean ± std. dev. of 7 runs, 1 loop each)\n"
          ]
        }
      ]
    },
    {
      "cell_type": "code",
      "source": [
        "%%timeit\n",
        "\n",
        "lst = list()\n",
        "for n in range(10_000_000):\n",
        "    lst.append(n ** 2)"
      ],
      "metadata": {
        "id": "L5G-hMQYBurI",
        "colab": {
          "base_uri": "https://localhost:8080/"
        },
        "outputId": "61ee6a2a-abcf-403c-c36d-a56a1c40d5bd"
      },
      "execution_count": 23,
      "outputs": [
        {
          "output_type": "stream",
          "name": "stdout",
          "text": [
            "3.54 s ± 49.1 ms per loop (mean ± std. dev. of 7 runs, 1 loop each)\n"
          ]
        }
      ]
    },
    {
      "cell_type": "code",
      "source": [
        "history -n 1-4"
      ],
      "metadata": {
        "id": "98Jdcn4n3No3",
        "colab": {
          "base_uri": "https://localhost:8080/"
        },
        "outputId": "e4ddf1b9-2aa1-4520-e101-bd836201574c"
      },
      "execution_count": 24,
      "outputs": [
        {
          "output_type": "stream",
          "name": "stdout",
          "text": [
            "   1: help(vars)\n",
            "   2: 'In' in vars() and \"Out\" in vars()\n",
            "   3: type(In)\n",
            "   4: type(Out)\n"
          ]
        }
      ]
    },
    {
      "cell_type": "markdown",
      "metadata": {
        "id": "sSQatgNXC8Pg"
      },
      "source": [
        "## Shell Commands"
      ]
    },
    {
      "cell_type": "markdown",
      "source": [
        "The list of useful commands [here](https://lym.readthedocs.io/en/latest/startingcommands.html)"
      ],
      "metadata": {
        "id": "C40VnNJuHIse"
      }
    },
    {
      "cell_type": "code",
      "source": [
        "!pwd                 # print working directory"
      ],
      "metadata": {
        "id": "eHx3WxyUHmam",
        "colab": {
          "base_uri": "https://localhost:8080/"
        },
        "outputId": "4bc15567-a64e-412b-c7fa-5d9bd75f9ad9"
      },
      "execution_count": 25,
      "outputs": [
        {
          "output_type": "stream",
          "name": "stdout",
          "text": [
            "/content\n"
          ]
        }
      ]
    },
    {
      "cell_type": "code",
      "source": [
        "!ls                  # list working directory contents"
      ],
      "metadata": {
        "id": "WxozNgORHwXR",
        "colab": {
          "base_uri": "https://localhost:8080/"
        },
        "outputId": "dd9a69e5-57bd-446d-d48d-e4a57d566bb4"
      },
      "execution_count": 26,
      "outputs": [
        {
          "output_type": "stream",
          "name": "stdout",
          "text": [
            "sample_data  script.py\n"
          ]
        }
      ]
    },
    {
      "cell_type": "code",
      "source": [
        "!echo \"hello world\"  # like python's print"
      ],
      "metadata": {
        "id": "VHXWTzuLH4yo",
        "colab": {
          "base_uri": "https://localhost:8080/"
        },
        "outputId": "43b3ba71-6071-4651-985a-b382d8821315"
      },
      "execution_count": 27,
      "outputs": [
        {
          "output_type": "stream",
          "name": "stdout",
          "text": [
            "hello world\n"
          ]
        }
      ]
    },
    {
      "cell_type": "code",
      "source": [
        "lst = !ls"
      ],
      "metadata": {
        "id": "GEbjYnTf8SYP"
      },
      "execution_count": 28,
      "outputs": []
    },
    {
      "cell_type": "code",
      "source": [
        "lst"
      ],
      "metadata": {
        "colab": {
          "base_uri": "https://localhost:8080/"
        },
        "id": "pHZtPnYy8UAF",
        "outputId": "e4d4bec8-ae40-4e0e-8ee4-e66deae66424"
      },
      "execution_count": 29,
      "outputs": [
        {
          "output_type": "execute_result",
          "data": {
            "text/plain": [
              "['sample_data']"
            ]
          },
          "metadata": {},
          "execution_count": 29
        }
      ]
    }
  ]
}