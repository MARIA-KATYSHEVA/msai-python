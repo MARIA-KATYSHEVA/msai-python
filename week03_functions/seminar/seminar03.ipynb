{
 "cells": [
  {
   "cell_type": "markdown",
   "metadata": {},
   "source": [
    "## Seminar 03 - Functions"
   ]
  },
  {
   "cell_type": "markdown",
   "metadata": {},
   "source": [
    "form submissions with other solution attempts (access by @phystech.edu email):\n",
    "\n",
    "https://docs.google.com/spreadsheets/d/1cV-s5hKuQAAtk1jNDMiaTUvjjBZH_yohHJU05PKWYxw"
   ]
  },
  {
   "cell_type": "markdown",
   "metadata": {},
   "source": [
    "### Task 1\n",
    "\n",
    "return min and max argument (or keyword argument)\n",
    "\n",
    "if 1 argument passed and it is iterable, return min and max of this argument"
   ]
  },
  {
   "cell_type": "code",
   "execution_count": 1,
   "metadata": {},
   "outputs": [],
   "source": [
    "# decision from seminar\n",
    "def minmax(*args, **kwargs):\n",
    "    if len(args) == 1 and not kwargs and hasattr(args[0], '__iter__'):  # isinstance([], list)\n",
    "        return min(args[0]), max(args[0])\n",
    "    else:\n",
    "        all_values = [*args, *(kwargs.values())]\n",
    "        return min(all_values), max(all_values)"
   ]
  },
  {
   "cell_type": "code",
   "execution_count": 2,
   "metadata": {},
   "outputs": [],
   "source": [
    "# correct decision that works for minmax(a=[1, 2, 3])\n",
    "def minmax(*args, **kwargs):\n",
    "    all_values = [*args, *(kwargs.values())]\n",
    "    if len(all_values) == 1 and hasattr(all_values[0], '__iter__'):\n",
    "        collection = all_values[0]\n",
    "    else:\n",
    "        collection = all_values\n",
    "    return min(collection), max(collection)"
   ]
  },
  {
   "cell_type": "code",
   "execution_count": 3,
   "metadata": {},
   "outputs": [
    {
     "data": {
      "text/plain": [
       "(1, 6)"
      ]
     },
     "execution_count": 3,
     "metadata": {},
     "output_type": "execute_result"
    }
   ],
   "source": [
    "minmax(1, a=4, b=5, c=6)"
   ]
  },
  {
   "cell_type": "code",
   "execution_count": 4,
   "metadata": {},
   "outputs": [
    {
     "data": {
      "text/plain": [
       "[True, True, True, True, True, True]"
      ]
     },
     "execution_count": 4,
     "metadata": {},
     "output_type": "execute_result"
    }
   ],
   "source": [
    "[\n",
    "    minmax([1, 2, 3])              == (1, 3),\n",
    "    minmax(1, 2, 3)                == (1, 3),\n",
    "    minmax(1, 2, 3, a=4, b=5, c=6) == (1, 6),\n",
    "    minmax(1, a=4, b=5, c=6)       == (1, 6),\n",
    "    minmax(1)                      == (1, 1),\n",
    "    minmax(a=[1, 2, 3])            == (1, 3),\n",
    "]"
   ]
  },
  {
   "cell_type": "code",
   "execution_count": 5,
   "metadata": {},
   "outputs": [
    {
     "ename": "TypeError",
     "evalue": "'<' not supported between instances of 'int' and 'list'",
     "output_type": "error",
     "traceback": [
      "\u001b[0;31m---------------------------------------------------------------------------\u001b[0m",
      "\u001b[0;31mTypeError\u001b[0m                                 Traceback (most recent call last)",
      "\u001b[0;32m<ipython-input-5-a1c1a8dc3f71>\u001b[0m in \u001b[0;36m<module>\u001b[0;34m\u001b[0m\n\u001b[0;32m----> 1\u001b[0;31m \u001b[0mmin\u001b[0m\u001b[0;34m(\u001b[0m\u001b[0;34m[\u001b[0m\u001b[0;36m1\u001b[0m\u001b[0;34m,\u001b[0m \u001b[0;36m2\u001b[0m\u001b[0;34m,\u001b[0m \u001b[0;36m3\u001b[0m\u001b[0;34m]\u001b[0m\u001b[0;34m,\u001b[0m \u001b[0;36m1\u001b[0m\u001b[0;34m)\u001b[0m  \u001b[0;31m# raise error\u001b[0m\u001b[0;34m\u001b[0m\u001b[0;34m\u001b[0m\u001b[0m\n\u001b[0m",
      "\u001b[0;31mTypeError\u001b[0m: '<' not supported between instances of 'int' and 'list'"
     ]
    }
   ],
   "source": [
    "min([1, 2, 3], 1)  # raise error"
   ]
  },
  {
   "cell_type": "markdown",
   "metadata": {},
   "source": [
    "### Packing & unpacking refresh"
   ]
  },
  {
   "cell_type": "code",
   "execution_count": 6,
   "metadata": {},
   "outputs": [],
   "source": [
    "def pack_args(*args, **kwargs):\n",
    "    return args, kwargs"
   ]
  },
  {
   "cell_type": "code",
   "execution_count": 7,
   "metadata": {},
   "outputs": [
    {
     "data": {
      "text/plain": [
       "((1, 2, 3), {'a': 4, 'b': 5, 'c': 6})"
      ]
     },
     "execution_count": 7,
     "metadata": {},
     "output_type": "execute_result"
    }
   ],
   "source": [
    "pack_args(1, 2, 3, a=4, b=5, c=6)"
   ]
  },
  {
   "cell_type": "code",
   "execution_count": 8,
   "metadata": {},
   "outputs": [],
   "source": [
    "def pack_args_2(x, y, *args, a=None, **kwargs):\n",
    "    return args, kwargs"
   ]
  },
  {
   "cell_type": "code",
   "execution_count": 9,
   "metadata": {},
   "outputs": [
    {
     "data": {
      "text/plain": [
       "((3,), {'b': 5, 'c': 6})"
      ]
     },
     "execution_count": 9,
     "metadata": {},
     "output_type": "execute_result"
    }
   ],
   "source": [
    "pack_args_2(1, 2, 3, a=4, b=5, c=6)"
   ]
  },
  {
   "cell_type": "markdown",
   "metadata": {},
   "source": [
    "### Task 2\n",
    "\n",
    "return 3 minimal elements from given collection"
   ]
  },
  {
   "cell_type": "code",
   "execution_count": 10,
   "metadata": {},
   "outputs": [],
   "source": [
    "from typing import Iterable"
   ]
  },
  {
   "cell_type": "code",
   "execution_count": 11,
   "metadata": {},
   "outputs": [
    {
     "data": {
      "text/plain": [
       "(1, 1, 1)"
      ]
     },
     "execution_count": 11,
     "metadata": {},
     "output_type": "execute_result"
    }
   ],
   "source": [
    "def min3(a: Iterable):\n",
    "    a = a.copy()  # not to change given collection\n",
    "    return a.pop(a.index(min(a))), a.pop(a.index(min(a))), a.pop(a.index(min(a)))\n",
    "\n",
    "min3([1, 1, 1, 1])"
   ]
  },
  {
   "cell_type": "code",
   "execution_count": 12,
   "metadata": {},
   "outputs": [
    {
     "data": {
      "text/plain": [
       "[True, True, True]"
      ]
     },
     "execution_count": 12,
     "metadata": {},
     "output_type": "execute_result"
    }
   ],
   "source": [
    "[\n",
    "    min3([5, 4, 3, 2, 1]) == (1, 2, 3),\n",
    "    min3([1, 1, 2, 3])    == (1, 1, 2),\n",
    "    min3([1, 1, 1, 1])    == (1, 1, 1),\n",
    "]"
   ]
  },
  {
   "cell_type": "code",
   "execution_count": 13,
   "metadata": {},
   "outputs": [
    {
     "data": {
      "text/plain": [
       "[5, 4, 3, 2, 1]"
      ]
     },
     "execution_count": 13,
     "metadata": {},
     "output_type": "execute_result"
    }
   ],
   "source": [
    "a = [5, 4, 3, 2, 1]\n",
    "min3(a)\n",
    "a  # should be [5, 4, 3, 2, 1]"
   ]
  },
  {
   "cell_type": "markdown",
   "metadata": {},
   "source": [
    "### Task 3\n",
    "\n",
    "Create a decorator to print function name and its arguments (including kwargs) before the call and print function result after call"
   ]
  },
  {
   "cell_type": "code",
   "execution_count": 14,
   "metadata": {},
   "outputs": [],
   "source": [
    "import functools\n",
    "\n",
    "\n",
    "def log(func):\n",
    "\n",
    "    @functools.wraps(func)\n",
    "    def wrapper(*args, **kwargs):\n",
    "        name = func.__name__\n",
    "        print(f'{name} function was called with {args} {kwargs}')\n",
    "        res = func(*args, **kwargs)\n",
    "        print(f'result is {res}')\n",
    "        return res\n",
    "\n",
    "    return wrapper\n",
    "\n",
    "\n",
    "@log\n",
    "def foo(bar):\n",
    "    pass"
   ]
  },
  {
   "cell_type": "code",
   "execution_count": 15,
   "metadata": {},
   "outputs": [
    {
     "name": "stdout",
     "output_type": "stream",
     "text": [
      "foo function was called with (1,) {}\n",
      "result is None\n"
     ]
    }
   ],
   "source": [
    "foo(1)\n",
    "# 'foo' function was called with args=(1,), kwargs={}\n",
    "# 'foo' result is None"
   ]
  },
  {
   "cell_type": "code",
   "execution_count": 16,
   "metadata": {},
   "outputs": [
    {
     "name": "stdout",
     "output_type": "stream",
     "text": [
      "pack_args\n"
     ]
    }
   ],
   "source": [
    "@log\n",
    "def pack_args(*args, **kwargs):\n",
    "    return args, kwargs\n",
    "\n",
    "print(pack_args.__name__)"
   ]
  },
  {
   "cell_type": "code",
   "execution_count": 17,
   "metadata": {},
   "outputs": [
    {
     "name": "stdout",
     "output_type": "stream",
     "text": [
      "pack_args function was called with (1, 2, 3) {'a': 4, 'b': 5, 'c': 6}\n",
      "result is ((1, 2, 3), {'a': 4, 'b': 5, 'c': 6})\n"
     ]
    },
    {
     "data": {
      "text/plain": [
       "((1, 2, 3), {'a': 4, 'b': 5, 'c': 6})"
      ]
     },
     "execution_count": 17,
     "metadata": {},
     "output_type": "execute_result"
    }
   ],
   "source": [
    "pack_args(1, 2, 3, a=4, b=5, c=6)"
   ]
  },
  {
   "cell_type": "markdown",
   "metadata": {},
   "source": [
    "### Function is object in Python"
   ]
  },
  {
   "cell_type": "code",
   "execution_count": 18,
   "metadata": {},
   "outputs": [
    {
     "name": "stdout",
     "output_type": "stream",
     "text": [
      "<class 'function'>\n"
     ]
    }
   ],
   "source": [
    "def foo(bar):\n",
    "    pass\n",
    "\n",
    "print(type(foo))"
   ]
  },
  {
   "cell_type": "code",
   "execution_count": 19,
   "metadata": {},
   "outputs": [
    {
     "name": "stdout",
     "output_type": "stream",
     "text": [
      "['__annotations__', '__call__', '__class__', '__closure__', '__code__', '__defaults__', '__delattr__', '__dict__', '__dir__', '__doc__', '__eq__', '__format__', '__ge__', '__get__', '__getattribute__', '__globals__', '__gt__', '__hash__', '__init__', '__init_subclass__', '__kwdefaults__', '__le__', '__lt__', '__module__', '__name__', '__ne__', '__new__', '__qualname__', '__reduce__', '__reduce_ex__', '__repr__', '__setattr__', '__sizeof__', '__str__', '__subclasshook__']\n"
     ]
    }
   ],
   "source": [
    "print(dir(type(foo)))"
   ]
  }
 ],
 "metadata": {
  "kernelspec": {
   "display_name": "Python 3",
   "language": "python",
   "name": "python3"
  },
  "language_info": {
   "codemirror_mode": {
    "name": "ipython",
    "version": 3
   },
   "file_extension": ".py",
   "mimetype": "text/x-python",
   "name": "python",
   "nbconvert_exporter": "python",
   "pygments_lexer": "ipython3",
   "version": "3.7.6"
  }
 },
 "nbformat": 4,
 "nbformat_minor": 4
}
