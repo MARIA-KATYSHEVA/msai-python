{
 "cells": [
  {
   "cell_type": "markdown",
   "metadata": {},
   "source": [
    "### 1. Imperative and declarative programming training"
   ]
  },
  {
   "cell_type": "code",
   "execution_count": 1,
   "metadata": {},
   "outputs": [],
   "source": [
    "import math\n",
    "\n",
    "def min_imperative(c):\n",
    "    \"\"\"by Ilias\"\"\"\n",
    "    minValue = math.inf\n",
    "    for v in c:\n",
    "        if v < minValue:\n",
    "            minValue = v\n",
    "    return minValue"
   ]
  },
  {
   "cell_type": "code",
   "execution_count": 2,
   "metadata": {},
   "outputs": [],
   "source": [
    "from functools import reduce\n",
    "\n",
    "def min_declarative(array):\n",
    "    \"\"\"by Ilias\"\"\"\n",
    "    return reduce(lambda a, b: a if (a < b) else b, array)"
   ]
  },
  {
   "cell_type": "code",
   "execution_count": null,
   "metadata": {},
   "outputs": [],
   "source": [
    "# don't do that, its just for training. Ilias's desicion is much better\n",
    "\n",
    "mymin = lambda l, m = 99999999: [(m := elem) for elem in l if elem < m][-1]"
   ]
  },
  {
   "cell_type": "code",
   "execution_count": 3,
   "metadata": {},
   "outputs": [
    {
     "name": "stdout",
     "output_type": "stream",
     "text": [
      "True\n",
      "True\n",
      "True\n",
      "True\n",
      "True\n",
      "True\n",
      "True\n",
      "True\n"
     ]
    }
   ],
   "source": [
    "tests = [\n",
    "    [1, 2, 3],\n",
    "    [3, 2, 1],\n",
    "    [1],\n",
    "    [0, -8, 6],\n",
    "]\n",
    "for test in tests:\n",
    "    print(min(test) == min_imperative(test))\n",
    "    print(min(test) == min_declarative(test))\n",
    "    # print(min(test) == mymin(test))  # works with Python3.8 +"
   ]
  },
  {
   "cell_type": "markdown",
   "metadata": {},
   "source": [
    "### 2. smart_cache decorator that caches N most popular (by arguments usage) results"
   ]
  },
  {
   "cell_type": "code",
   "execution_count": null,
   "metadata": {},
   "outputs": [],
   "source": [
    "@smart_cache(n=2)\n",
    "def return_video(*args, **kwargs):\n",
    "    return '&' * 1024 * 1024 * 1024"
   ]
  },
  {
   "cell_type": "code",
   "execution_count": null,
   "metadata": {},
   "outputs": [],
   "source": [
    "return_video(a=1)  # calculation\n",
    "return_video(a=2)  # calculation\n",
    "return_video(a=1)  # using cached\n",
    "return_video(a=3)  # calculation\n",
    "return_video(a=1)  # using cached\n",
    "return_video(a=3)  # using cached or calculation\n",
    "return_video(a=2)  # using cached or calculation\n",
    "return_video(a=2)  # using cached"
   ]
  },
  {
   "cell_type": "markdown",
   "metadata": {},
   "source": [
    "**step 1** - creating a decorator with arguments"
   ]
  },
  {
   "cell_type": "code",
   "execution_count": 4,
   "metadata": {},
   "outputs": [],
   "source": [
    "import functools\n",
    "\n",
    "\n",
    "def smart_cache(cache_size=10):\n",
    "    cached_arguments = []  # [(args, kwargs), ...]\n",
    "    cached_arguments_usage = {}  # {<index of (args, kwargs)>: <count of its usage>}\n",
    "    cached_results = {}  # {<index of (args, kwargs)>: <cached result>}\n",
    "\n",
    "    def wrapper_helper(func):\n",
    "\n",
    "        @functools.wraps(func)\n",
    "        def wrapper(*args, **kwargs):\n",
    "            print(f'cache_size={cache_size}')\n",
    "            return func(*args, **kwargs)\n",
    "\n",
    "        return wrapper\n",
    "\n",
    "    return wrapper_helper"
   ]
  },
  {
   "cell_type": "code",
   "execution_count": 5,
   "metadata": {},
   "outputs": [
    {
     "name": "stdout",
     "output_type": "stream",
     "text": [
      "cache_size=2\n"
     ]
    }
   ],
   "source": [
    "@smart_cache(cache_size=2)\n",
    "def foo(bar):\n",
    "    pass\n",
    "\n",
    "foo(1)"
   ]
  },
  {
   "cell_type": "markdown",
   "metadata": {},
   "source": [
    "**step 2** - creating just a cache decorator"
   ]
  },
  {
   "cell_type": "code",
   "execution_count": 6,
   "metadata": {},
   "outputs": [],
   "source": [
    "import functools\n",
    "\n",
    "\n",
    "def smart_cache(cache_size=10):\n",
    "    cached_arguments = []  # [(args, kwargs), ...]\n",
    "    cached_results = {}  # {<index of (args, kwargs)>: <cached result>}\n",
    "\n",
    "    def wrapper_helper(func):\n",
    "\n",
    "        @functools.wraps(func)\n",
    "        def wrapper(*args, **kwargs):\n",
    "            try:\n",
    "                index = cached_arguments.index((args, kwargs))\n",
    "            except ValueError:\n",
    "                index = None\n",
    "\n",
    "            if index is not None:\n",
    "                return cached_results[index]\n",
    "\n",
    "            res = func(*args, **kwargs)\n",
    "\n",
    "            index = len(cached_arguments)\n",
    "            cached_arguments.append((args, kwargs))\n",
    "            cached_results[index] = res\n",
    "\n",
    "            print(cached_arguments)\n",
    "            print(cached_results)\n",
    "\n",
    "            return res\n",
    "\n",
    "        return wrapper\n",
    "\n",
    "    return wrapper_helper"
   ]
  },
  {
   "cell_type": "code",
   "execution_count": 7,
   "metadata": {},
   "outputs": [
    {
     "name": "stdout",
     "output_type": "stream",
     "text": [
      "bar is 1\n",
      "[((1,), {})]\n",
      "{0: None}\n",
      "bar is 2\n",
      "[((1,), {}), ((2,), {})]\n",
      "{0: None, 1: None}\n",
      "bar is 3\n",
      "[((1,), {}), ((2,), {}), ((3,), {})]\n",
      "{0: None, 1: None, 2: None}\n"
     ]
    }
   ],
   "source": [
    "@smart_cache(cache_size=2)\n",
    "def foo(bar):\n",
    "    print(f'bar is {bar}')\n",
    "\n",
    "foo(1)\n",
    "foo(1)\n",
    "foo(2)\n",
    "foo(2)\n",
    "foo(3)\n",
    "foo(3)"
   ]
  },
  {
   "cell_type": "markdown",
   "metadata": {},
   "source": [
    "**step 3** - counting statistics of arguments usage"
   ]
  },
  {
   "cell_type": "code",
   "execution_count": 8,
   "metadata": {},
   "outputs": [],
   "source": [
    "import functools\n",
    "\n",
    "\n",
    "def smart_cache(cache_size=10):\n",
    "    cached_arguments = []  # [(args, kwargs), ...]\n",
    "    cached_arguments_usage = {}  # {<index of (args, kwargs)>: <count of its usage>}\n",
    "    cached_results = {}  # {<index of (args, kwargs)>: <cached result>}\n",
    "\n",
    "    def wrapper_helper(func):\n",
    "\n",
    "        @functools.wraps(func)\n",
    "        def wrapper(*args, **kwargs):\n",
    "            try:\n",
    "                index = cached_arguments.index((args, kwargs))\n",
    "            except ValueError:\n",
    "                index = None\n",
    "            \n",
    "            if index is not None:\n",
    "                cached_arguments_usage[index] += 1\n",
    "                return cached_results[index]\n",
    "\n",
    "            res = func(*args, **kwargs)\n",
    "\n",
    "            index = len(cached_arguments)\n",
    "            cached_arguments.append((args, kwargs))\n",
    "            cached_arguments_usage[index] = 1\n",
    "            cached_results[index] = res\n",
    "\n",
    "            print(cached_arguments)\n",
    "            print(cached_arguments_usage)\n",
    "            print(cached_results)\n",
    "\n",
    "            return res\n",
    "\n",
    "        return wrapper\n",
    "\n",
    "    return wrapper_helper"
   ]
  },
  {
   "cell_type": "code",
   "execution_count": 9,
   "metadata": {},
   "outputs": [
    {
     "name": "stdout",
     "output_type": "stream",
     "text": [
      "bar is 1\n",
      "[((1,), {})]\n",
      "{0: 1}\n",
      "{0: None}\n",
      "bar is 2\n",
      "[((1,), {}), ((2,), {})]\n",
      "{0: 2, 1: 1}\n",
      "{0: None, 1: None}\n",
      "bar is 3\n",
      "[((1,), {}), ((2,), {}), ((3,), {})]\n",
      "{0: 2, 1: 2, 2: 1}\n",
      "{0: None, 1: None, 2: None}\n"
     ]
    }
   ],
   "source": [
    "@smart_cache(cache_size=2)\n",
    "def foo(bar):\n",
    "    print(f'bar is {bar}')\n",
    "\n",
    "foo(1)\n",
    "foo(1)\n",
    "foo(2)\n",
    "foo(2)\n",
    "foo(3)\n",
    "foo(3)"
   ]
  },
  {
   "cell_type": "markdown",
   "metadata": {},
   "source": [
    "**step 4** - use usage stats to remove not popluar cached results"
   ]
  },
  {
   "cell_type": "code",
   "execution_count": 10,
   "metadata": {},
   "outputs": [],
   "source": [
    "import functools\n",
    "\n",
    "\n",
    "def smart_cache(cache_size=10):\n",
    "    cached_arguments = []  # [(args, kwargs), ...]\n",
    "    cached_arguments_usage = {}  # {<index of (args, kwargs)>: <count of its usage>}\n",
    "    cached_results = {}  # {<index of (args, kwargs)>: <cached result>}\n",
    "\n",
    "    def wrapper_helper(func):\n",
    "\n",
    "        @functools.wraps(func)\n",
    "        def wrapper(*args, **kwargs):\n",
    "            try:\n",
    "                index = cached_arguments.index((args, kwargs))\n",
    "            except ValueError:\n",
    "                index = None\n",
    "            \n",
    "            if index is not None:\n",
    "                cached_arguments_usage[index] += 1\n",
    "                if index in cached_results:\n",
    "                    return cached_results[index]\n",
    "\n",
    "            res = func(*args, **kwargs)\n",
    "\n",
    "            if index is None:\n",
    "                index = len(cached_arguments)\n",
    "                cached_arguments.append((args, kwargs))\n",
    "                cached_arguments_usage[index] = 1\n",
    "\n",
    "            cached_results[index] = res\n",
    "\n",
    "            if len(cached_results) > cache_size:\n",
    "                cached_results_indexes = list(cached_results.keys())\n",
    "\n",
    "                index_with_smallest_usage = cached_results_indexes[0]\n",
    "                smallest_usage = cached_arguments_usage[index_with_smallest_usage]\n",
    "                for i in cached_results_indexes:\n",
    "                    if cached_arguments_usage[i] < smallest_usage:\n",
    "                        index_with_smallest_usage = i\n",
    "                        smallest_usage = cached_arguments_usage[i]\n",
    "                del cached_results[index_with_smallest_usage]\n",
    "\n",
    "            print(cached_arguments)\n",
    "            print(cached_arguments_usage)\n",
    "            print(list(cached_results.keys()))\n",
    "            print()\n",
    "\n",
    "            return res\n",
    "\n",
    "        return wrapper\n",
    "\n",
    "    return wrapper_helper"
   ]
  },
  {
   "cell_type": "code",
   "execution_count": 11,
   "metadata": {},
   "outputs": [],
   "source": [
    "@smart_cache(cache_size=2)\n",
    "def return_video(*args, **kwargs):\n",
    "    return '&' * 1024 * 1024 * 1024"
   ]
  },
  {
   "cell_type": "code",
   "execution_count": 12,
   "metadata": {},
   "outputs": [
    {
     "name": "stdout",
     "output_type": "stream",
     "text": [
      "[((1, 2, 3), {'a': 4, 'b': 5, 'c': 6})]\n",
      "{0: 1}\n",
      "[0]\n",
      "\n",
      "[((1, 2, 3), {'a': 4, 'b': 5, 'c': 6}), ((1, 2, 3), {'a': 4, 'b': 5, 'c': 7})]\n",
      "{0: 1, 1: 1}\n",
      "[0, 1]\n",
      "\n",
      "[((1, 2, 3), {'a': 4, 'b': 5, 'c': 6}), ((1, 2, 3), {'a': 4, 'b': 5, 'c': 7}), ((1, 2, 3), {'a': 4, 'b': 5, 'c': 8})]\n",
      "{0: 1, 1: 1, 2: 1}\n",
      "[1, 2]\n",
      "\n",
      "[((1, 2, 3), {'a': 4, 'b': 5, 'c': 6}), ((1, 2, 3), {'a': 4, 'b': 5, 'c': 7}), ((1, 2, 3), {'a': 4, 'b': 5, 'c': 8})]\n",
      "{0: 2, 1: 1, 2: 1}\n",
      "[2, 0]\n",
      "\n",
      "[((1, 2, 3), {'a': 4, 'b': 5, 'c': 6}), ((1, 2, 3), {'a': 4, 'b': 5, 'c': 7}), ((1, 2, 3), {'a': 4, 'b': 5, 'c': 8}), ((1, 2, 3), {'a': 4, 'b': 5, 'c': {1: 2, 3: {1, 2, 3}}})]\n",
      "{0: 2, 1: 1, 2: 2, 3: 1}\n",
      "[2, 0]\n",
      "\n",
      "[((1, 2, 3), {'a': 4, 'b': 5, 'c': 6}), ((1, 2, 3), {'a': 4, 'b': 5, 'c': 7}), ((1, 2, 3), {'a': 4, 'b': 5, 'c': 8}), ((1, 2, 3), {'a': 4, 'b': 5, 'c': {1: 2, 3: {1, 2, 3}}})]\n",
      "{0: 2, 1: 1, 2: 2, 3: 2}\n",
      "[0, 3]\n",
      "\n"
     ]
    }
   ],
   "source": [
    "result = return_video(1, 2, 3, a=4, b=5, c=6)\n",
    "result = return_video(1, 2, 3, a=4, b=5, c=7)\n",
    "result = return_video(1, 2, 3, a=4, b=5, c=8)\n",
    "result = return_video(1, 2, 3, a=4, b=5, c=6)\n",
    "result = return_video(1, 2, 3, a=4, b=5, c=8)\n",
    "result = return_video(1, 2, 3, a=4, b=5, c={1: 2, 3: {1, 2, 3}})\n",
    "result = return_video(1, 2, 3, a=4, b=5, c={1: 2, 3: {1, 2, 3}})\n",
    "result = return_video(1, 2, 3, a=4, b=5, c={1: 2, 3: {1, 2, 3}})"
   ]
  },
  {
   "cell_type": "code",
   "execution_count": 13,
   "metadata": {},
   "outputs": [
    {
     "data": {
      "text/plain": [
       "1073741824"
      ]
     },
     "execution_count": 13,
     "metadata": {},
     "output_type": "execute_result"
    }
   ],
   "source": [
    "len(result)"
   ]
  },
  {
   "cell_type": "markdown",
   "metadata": {},
   "source": [
    "### Dict is unhashable even inside tuple"
   ]
  },
  {
   "cell_type": "code",
   "execution_count": 14,
   "metadata": {},
   "outputs": [
    {
     "ename": "TypeError",
     "evalue": "unhashable type: 'dict'",
     "output_type": "error",
     "traceback": [
      "\u001b[0;31m---------------------------------------------------------------------------\u001b[0m",
      "\u001b[0;31mTypeError\u001b[0m                                 Traceback (most recent call last)",
      "\u001b[0;32m<ipython-input-14-c551736e3c78>\u001b[0m in \u001b[0;36m<module>\u001b[0;34m\u001b[0m\n\u001b[0;32m----> 1\u001b[0;31m \u001b[0;34m{\u001b[0m\u001b[0;34m(\u001b[0m\u001b[0;34m'a'\u001b[0m\u001b[0;34m,\u001b[0m \u001b[0;34m{\u001b[0m\u001b[0;34m}\u001b[0m\u001b[0;34m)\u001b[0m\u001b[0;34m}\u001b[0m\u001b[0;34m\u001b[0m\u001b[0;34m\u001b[0m\u001b[0m\n\u001b[0m",
      "\u001b[0;31mTypeError\u001b[0m: unhashable type: 'dict'"
     ]
    }
   ],
   "source": [
    "{('a', {})}"
   ]
  },
  {
   "cell_type": "code",
   "execution_count": 15,
   "metadata": {},
   "outputs": [
    {
     "ename": "TypeError",
     "evalue": "unhashable type: 'dict'",
     "output_type": "error",
     "traceback": [
      "\u001b[0;31m---------------------------------------------------------------------------\u001b[0m",
      "\u001b[0;31mTypeError\u001b[0m                                 Traceback (most recent call last)",
      "\u001b[0;32m<ipython-input-15-71c05bd7f982>\u001b[0m in \u001b[0;36m<module>\u001b[0;34m\u001b[0m\n\u001b[0;32m----> 1\u001b[0;31m \u001b[0;34m{\u001b[0m\u001b[0;34m(\u001b[0m\u001b[0;34m'a'\u001b[0m\u001b[0;34m,\u001b[0m \u001b[0;34m(\u001b[0m\u001b[0;34m'b'\u001b[0m\u001b[0;34m,\u001b[0m \u001b[0;34m(\u001b[0m\u001b[0;34m'c'\u001b[0m\u001b[0;34m,\u001b[0m \u001b[0;34m{\u001b[0m\u001b[0;34m}\u001b[0m\u001b[0;34m)\u001b[0m\u001b[0;34m)\u001b[0m\u001b[0;34m)\u001b[0m\u001b[0;34m}\u001b[0m  \u001b[0;31m# even when it is very very deep\u001b[0m\u001b[0;34m\u001b[0m\u001b[0;34m\u001b[0m\u001b[0m\n\u001b[0m",
      "\u001b[0;31mTypeError\u001b[0m: unhashable type: 'dict'"
     ]
    }
   ],
   "source": [
    "{('a', ('b', ('c', {})))}  # even when it is very very deep"
   ]
  }
 ],
 "metadata": {
  "kernelspec": {
   "display_name": "Python 3",
   "language": "python",
   "name": "python3"
  },
  "language_info": {
   "codemirror_mode": {
    "name": "ipython",
    "version": 3
   },
   "file_extension": ".py",
   "mimetype": "text/x-python",
   "name": "python",
   "nbconvert_exporter": "python",
   "pygments_lexer": "ipython3",
   "version": "3.7.6"
  }
 },
 "nbformat": 4,
 "nbformat_minor": 4
}
