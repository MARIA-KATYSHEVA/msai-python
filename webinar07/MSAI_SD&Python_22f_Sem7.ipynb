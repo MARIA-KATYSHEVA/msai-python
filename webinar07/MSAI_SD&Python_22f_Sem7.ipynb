{
  "nbformat": 4,
  "nbformat_minor": 0,
  "metadata": {
    "colab": {
      "provenance": [],
      "collapsed_sections": []
    },
    "kernelspec": {
      "name": "python3",
      "display_name": "Python 3"
    },
    "language_info": {
      "name": "python"
    }
  },
  "cells": [
    {
      "cell_type": "markdown",
      "source": [
        "# Seminar 7. Dataclasses"
      ],
      "metadata": {
        "id": "mq3MNBtGhVSD"
      }
    },
    {
      "cell_type": "markdown",
      "source": [
        "Example from warm up test:"
      ],
      "metadata": {
        "id": "tjqvO9Q-hjg_"
      }
    },
    {
      "cell_type": "code",
      "execution_count": null,
      "metadata": {
        "id": "89sVmWvstKv9"
      },
      "outputs": [],
      "source": [
        "class SingletonClass:\n",
        "    _instance = None\n",
        "\n",
        "    def __new__(cls, *args, **kwargs): \n",
        "        if cls._instance is None:\n",
        "            cls._instance = super().__new__(cls)\n",
        "        return cls._instance\n",
        "\n",
        "\n",
        "obj1 = SingletonClass() \n",
        "obj2 = SingletonClass() \n",
        "assert id(obj1) == id(obj2)\n",
        "assert obj1 is obj2"
      ]
    },
    {
      "cell_type": "markdown",
      "source": [
        "Let's create simple decorator. Main points:\n",
        "- function are objects and we can work with them like with objects before calling them\n",
        "- \"@\" syntax just call decorator as a function, passes decorated object as an argument and replaces decorated object with result of this function call\n",
        "- decorator must be callable object that receives one argument\n",
        "- decorated object can be any object\n",
        "- result of decoration can be any object"
      ],
      "metadata": {
        "id": "G1I_X3T5hoi-"
      }
    },
    {
      "cell_type": "code",
      "source": [
        "def log_call(func):\n",
        "    # we can return None and foo became None (that is legal, but probably meaningless)\n",
        "    # return None\n",
        "\n",
        "    def wrapper(*args, **kwargs):\n",
        "        print(f'{func.__name__} called with args={args}, kwargs={kwargs}')\n",
        "        result = func(*args, **kwargs)\n",
        "        print(f'{func.__name__} result={result}')\n",
        "        return result\n",
        "\n",
        "    return wrapper\n",
        "\n",
        "\n",
        "@log_call         # that is the same as \"foo = log_call(foo)\"\n",
        "def foo(a, b=1):\n",
        "    print(1)\n",
        "    return 2\n",
        "\n",
        "print(foo)\n",
        "print('-' * 10)\n",
        "print(foo(a=1, b=2))"
      ],
      "metadata": {
        "colab": {
          "base_uri": "https://localhost:8080/"
        },
        "id": "BpKGyg2j0KOC",
        "outputId": "b672f94d-2654-46a3-e696-83c791fab2e2"
      },
      "execution_count": null,
      "outputs": [
        {
          "output_type": "stream",
          "name": "stdout",
          "text": [
            "<function log_call.<locals>.wrapper at 0x7f6a93bca320>\n",
            "----------\n",
            "foo called with args=(), kwargs={'a': 1, 'b': 2}\n",
            "1\n",
            "foo result=2\n",
            "2\n"
          ]
        }
      ]
    },
    {
      "cell_type": "markdown",
      "source": [
        "`wrapper` uses *closure* to achieve correct `func`.\n",
        "\n",
        "Wrapper created for `bar` function achieves `func` from scope of `log_call` function. When this wrapper was created, scope contained `bar` as a value of `func`. Python keep outer scope (closure) with function. So this wrapper achieves `bar`, not `foo`."
      ],
      "metadata": {
        "id": "YQpkKPa_kCom"
      }
    },
    {
      "cell_type": "code",
      "source": [
        "def log_call(func):\n",
        "\n",
        "    def wrapper(*args, **kwargs):\n",
        "        print(f'{func.__name__} called with args={args}, kwargs={kwargs}')\n",
        "        result = func(*args, **kwargs)\n",
        "        print(f'{func.__name__} result={result}')\n",
        "        return result\n",
        "\n",
        "    return wrapper\n",
        "\n",
        "\n",
        "@log_call\n",
        "def foo(a, b=1):\n",
        "    print(1)\n",
        "    return 2\n",
        "\n",
        "\n",
        "@log_call\n",
        "def bar(a, b=1):\n",
        "    print(2)\n",
        "    return 3\n",
        "\n",
        "print(foo)\n",
        "print(bar)\n",
        "print('-' * 10)\n",
        "print(foo(a=1, b=2))\n",
        "print('-' * 10)\n",
        "print(bar(a=1, b=2))"
      ],
      "metadata": {
        "colab": {
          "base_uri": "https://localhost:8080/"
        },
        "id": "mLrtxuIki2Vu",
        "outputId": "0ae35a79-27c0-47aa-c47d-63c28d0bd8f0"
      },
      "execution_count": null,
      "outputs": [
        {
          "output_type": "stream",
          "name": "stdout",
          "text": [
            "<function log_call.<locals>.wrapper at 0x7f6a93bca8c0>\n",
            "<function log_call.<locals>.wrapper at 0x7f6a93bcaa70>\n",
            "----------\n",
            "foo called with args=(), kwargs={'a': 1, 'b': 2}\n",
            "1\n",
            "foo result=2\n",
            "2\n",
            "----------\n",
            "bar called with args=(), kwargs={'a': 1, 'b': 2}\n",
            "2\n",
            "bar result=3\n",
            "3\n"
          ]
        }
      ]
    },
    {
      "cell_type": "markdown",
      "source": [
        "When we replacing object with other object, we lose name, docstring and other describing properties. That can break some code, depending on them. For example, documentation generator."
      ],
      "metadata": {
        "id": "E_UqsvUMmIdR"
      }
    },
    {
      "cell_type": "code",
      "source": [
        "def log_call(func):\n",
        "\n",
        "    def wrapper(*args, **kwargs):\n",
        "        print(f'{func.__name__} called with args={args}, kwargs={kwargs}')\n",
        "        result = func(*args, **kwargs)\n",
        "        print(f'{func.__name__} result={result}')\n",
        "        return result\n",
        "\n",
        "    return wrapper\n",
        "\n",
        "\n",
        "@log_call\n",
        "def foo(a, b=1):\n",
        "    \"\"\"foo docstring\"\"\"\n",
        "    print(1)\n",
        "    return 2\n",
        "\n",
        "\n",
        "print('foo name is', foo.__name__)\n",
        "print('foo docstring is', foo.__doc__)"
      ],
      "metadata": {
        "colab": {
          "base_uri": "https://localhost:8080/"
        },
        "id": "NUEww-Z8mFTq",
        "outputId": "7275d460-1801-47fd-c1ee-415d812618de"
      },
      "execution_count": null,
      "outputs": [
        {
          "output_type": "stream",
          "name": "stdout",
          "text": [
            "foo name is wrapper\n",
            "foo docstring is None\n"
          ]
        }
      ]
    },
    {
      "cell_type": "markdown",
      "source": [
        "There is `wraps` decorator from `functools` package to fix it. This is standart practice, like codestyle. Advice you to use it."
      ],
      "metadata": {
        "id": "koA06HBRm1ri"
      }
    },
    {
      "cell_type": "code",
      "source": [
        "import functools\n",
        "\n",
        "def log_call(func):\n",
        "\n",
        "    @functools.wraps(func)\n",
        "    def wrapper(*args, **kwargs):\n",
        "        print(f'{func.__name__} called with args={args}, kwargs={kwargs}')\n",
        "        result = func(*args, **kwargs)\n",
        "        print(f'{func.__name__} result={result}')\n",
        "        return result\n",
        "\n",
        "    # We could fix it by ourselves, like this:\n",
        "    # wrapper.__name__ = func.__name__\n",
        "    # That is actual example of what `functools.wraps` do.\n",
        "    # But it is too much job to do... Using a ready decorator is much simplier.\n",
        "\n",
        "    return wrapper\n",
        "\n",
        "\n",
        "@log_call\n",
        "def foo(a, b=1):\n",
        "    \"\"\"foo docstring\"\"\"\n",
        "    print(1)\n",
        "    return 2\n",
        "\n",
        "\n",
        "print('foo name is', foo.__name__)\n",
        "print('foo docstring is', foo.__doc__)"
      ],
      "metadata": {
        "colab": {
          "base_uri": "https://localhost:8080/"
        },
        "id": "MYB8ZkoEkXBU",
        "outputId": "db66a9d6-6ed4-4735-f65e-f3a3486f96f8"
      },
      "execution_count": null,
      "outputs": [
        {
          "output_type": "stream",
          "name": "stdout",
          "text": [
            "foo name is foo\n",
            "foo docstring is foo docstring\n"
          ]
        }
      ]
    },
    {
      "cell_type": "markdown",
      "source": [
        "We can write any expression after @. It is only important, that result must be callable object with one argument.\n",
        "\n",
        "We can use this property and implement the trick to create **parametrized decorator**.\n",
        "\n",
        "The trick is to wrap our decorator into function that tooks decorator parameters and returns actual decorator. This parameters will be saved in main function scope and available in inner functions.\n",
        "\n",
        "In the example below, `log_call` keeps the parameters and returns actual decorator `temp`. `temp` decorates the function and replaces it with `wrapper`."
      ],
      "metadata": {
        "id": "rKz6VhKbn2qg"
      }
    },
    {
      "cell_type": "code",
      "source": [
        "import functools\n",
        "\n",
        "def log_call(turn_off_logging=False):\n",
        "\n",
        "    def temp(func):\n",
        "\n",
        "        @functools.wraps(func)\n",
        "        def wrapper(*args, **kwargs):\n",
        "            if turn_off_logging is False:\n",
        "                print(f'{func.__name__} called with args={args}, kwargs={kwargs}')\n",
        "            result = func(*args, **kwargs)\n",
        "            if turn_off_logging is False:\n",
        "                print(f'{func.__name__} result={result}')\n",
        "            return result\n",
        "\n",
        "        return wrapper\n",
        "    \n",
        "    return temp\n",
        "\n",
        "\n",
        "@log_call(turn_off_logging=True)\n",
        "def foo(a, b=1):\n",
        "    print(1)\n",
        "    return 2\n",
        "\n",
        "\n",
        "# that is the same as\n",
        "# foo = log_call(turn_off_logging=True)(foo)\n",
        "# or\n",
        "# temp = log_call(turn_off_logging=True)\n",
        "# foo = temp(foo)\n",
        "\n",
        "print(foo)\n",
        "print('-' * 10)\n",
        "print(foo(a=1, b=2))"
      ],
      "metadata": {
        "id": "1dOKZt4f-wqt",
        "colab": {
          "base_uri": "https://localhost:8080/"
        },
        "outputId": "16cdce4a-f0df-4438-961d-77fa9a75c2e3"
      },
      "execution_count": null,
      "outputs": [
        {
          "output_type": "stream",
          "name": "stdout",
          "text": [
            "<function foo at 0x7f6a901554d0>\n",
            "----------\n",
            "1\n",
            "2\n"
          ]
        }
      ]
    }
  ]
}