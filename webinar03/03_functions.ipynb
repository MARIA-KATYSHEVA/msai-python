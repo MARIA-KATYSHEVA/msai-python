{
 "cells": [
  {
   "cell_type": "code",
   "execution_count": 23,
   "metadata": {
    "slideshow": {
     "slide_type": "skip"
    }
   },
   "outputs": [],
   "source": [
    "from IPython.core.interactiveshell import InteractiveShell\n",
    "InteractiveShell.ast_node_interactivity = \"all\""
   ]
  },
  {
   "cell_type": "markdown",
   "metadata": {
    "slideshow": {
     "slide_type": "skip"
    }
   },
   "source": []
  },
  {
   "cell_type": "markdown",
   "metadata": {
    "slideshow": {
     "slide_type": "slide"
    }
   },
   "source": [
    "# Functions, generators, scope, closures, decorators\n",
    "### Contents\n",
    "\n",
    "* Functions basics\n",
    "* Default arguments\n",
    "* Variable number of arguments\n",
    "* Recursion\n",
    "* Anonymous functions (lambdas)"
   ]
  },
  {
   "cell_type": "code",
   "execution_count": 1,
   "metadata": {},
   "outputs": [
    {
     "data": {
      "text/plain": [
       "5"
      ]
     },
     "execution_count": 1,
     "metadata": {},
     "output_type": "execute_result"
    }
   ],
   "source": [
    "abs(-5)"
   ]
  },
  {
   "cell_type": "code",
   "execution_count": 2,
   "metadata": {},
   "outputs": [
    {
     "data": {
      "text/plain": [
       "7"
      ]
     },
     "execution_count": 2,
     "metadata": {},
     "output_type": "execute_result"
    }
   ],
   "source": [
    "len('asdfghj')"
   ]
  },
  {
   "cell_type": "code",
   "execution_count": 8,
   "metadata": {},
   "outputs": [],
   "source": [
    "def print_type_methods(x):\n",
    "    print(*[name for name in dir(x) if (not name.startswith('_'))], sep='\\n')"
   ]
  },
  {
   "cell_type": "code",
   "execution_count": 9,
   "metadata": {},
   "outputs": [
    {
     "name": "stdout",
     "output_type": "stream",
     "text": [
      "append\n",
      "clear\n",
      "copy\n",
      "count\n",
      "extend\n",
      "index\n",
      "insert\n",
      "pop\n",
      "remove\n",
      "reverse\n",
      "sort\n"
     ]
    }
   ],
   "source": [
    "print_type_methods(list)"
   ]
  },
  {
   "cell_type": "code",
   "execution_count": 10,
   "metadata": {},
   "outputs": [
    {
     "name": "stdout",
     "output_type": "stream",
     "text": [
      "add\n",
      "clear\n",
      "copy\n",
      "difference\n",
      "difference_update\n",
      "discard\n",
      "intersection\n",
      "intersection_update\n",
      "isdisjoint\n",
      "issubset\n",
      "issuperset\n",
      "pop\n",
      "remove\n",
      "symmetric_difference\n",
      "symmetric_difference_update\n",
      "union\n",
      "update\n"
     ]
    }
   ],
   "source": [
    "print_type_methods(set)"
   ]
  },
  {
   "cell_type": "markdown",
   "metadata": {
    "slideshow": {
     "slide_type": "slide"
    }
   },
   "source": [
    "## Function declaration and calling"
   ]
  },
  {
   "cell_type": "code",
   "execution_count": 13,
   "metadata": {},
   "outputs": [
    {
     "name": "stdout",
     "output_type": "stream",
     "text": [
      "a = 1 b = bbb\n",
      "this is the body of the function\n",
      "this is the body of the function too\n",
      "\n",
      "a = 42 b = 4242\n",
      "this is the body of the function\n",
      "this is the body of the function too\n"
     ]
    }
   ],
   "source": [
    "def foo(a, b):\n",
    "    print('a =', a, 'b =', b)\n",
    "    print('this is the body of the function')\n",
    "    print('this is the body of the function too')\n",
    "    \n",
    "foo(1, 'bbb')\n",
    "\n",
    "print()\n",
    "\n",
    "foo(42, '4242')"
   ]
  },
  {
   "cell_type": "code",
   "execution_count": 14,
   "metadata": {},
   "outputs": [],
   "source": [
    "def procedure():\n",
    "    print('the message')"
   ]
  },
  {
   "cell_type": "code",
   "execution_count": 16,
   "metadata": {},
   "outputs": [
    {
     "name": "stdout",
     "output_type": "stream",
     "text": [
      "the message\n",
      "the message\n",
      "the message\n"
     ]
    },
    {
     "data": {
      "text/plain": [
       "function"
      ]
     },
     "execution_count": 16,
     "metadata": {},
     "output_type": "execute_result"
    }
   ],
   "source": [
    "procedure()\n",
    "procedure()\n",
    "procedure()\n",
    "type(procedure)"
   ]
  },
  {
   "cell_type": "markdown",
   "metadata": {
    "slideshow": {
     "slide_type": "subslide"
    }
   },
   "source": [
    "### Default arguments"
   ]
  },
  {
   "cell_type": "code",
   "execution_count": 17,
   "metadata": {},
   "outputs": [
    {
     "name": "stdout",
     "output_type": "stream",
     "text": [
      "a = 1 b = b c = 0.5 d = (None,)\n",
      "a = 1 b = b c = 0.3 d = (None,)\n",
      "a = 1 b = b c = 0.5 d = d\n",
      "a = 1 b = b c = 0.3 d = d\n"
     ]
    }
   ],
   "source": [
    "def foo(a, b, c=0.5, d=(None,)):\n",
    "    print('a =', a, 'b =', b, 'c =', c, 'd =', d)\n",
    "    \n",
    "foo(1, 'b')\n",
    "foo(1, 'b', 0.3)\n",
    "foo(1, 'b', d='d')\n",
    "foo(1, d='d', c=0.3, b='b')"
   ]
  },
  {
   "cell_type": "markdown",
   "metadata": {
    "slideshow": {
     "slide_type": "subslide"
    }
   },
   "source": [
    "### call-by-value (immutable arguments) vs. call-by-reference (mutable arguments)"
   ]
  },
  {
   "cell_type": "code",
   "execution_count": 19,
   "metadata": {},
   "outputs": [],
   "source": [
    "def get_my_hero_team(team, number):\n",
    "    number = 10\n",
    "    team['Chuck'] = 'Norris'\n",
    "    team['Sylvester'] = 'Stallone'"
   ]
  },
  {
   "cell_type": "code",
   "execution_count": 25,
   "metadata": {},
   "outputs": [
    {
     "name": "stdout",
     "output_type": "stream",
     "text": [
      "{'Bruce': 'Willis', 'Chuck': 'Lorre'}\n"
     ]
    }
   ],
   "source": [
    "number = 5\n",
    "hero_team = {'Bruce': 'Willis', 'Chuck': 'Lorre'}\n",
    "print(hero_team)\n",
    "get_my_hero_team(hero_team, number)"
   ]
  },
  {
   "cell_type": "code",
   "execution_count": 26,
   "metadata": {},
   "outputs": [
    {
     "name": "stdout",
     "output_type": "stream",
     "text": [
      "Bruce Willis\n",
      "Chuck Norris\n",
      "Sylvester Stallone\n"
     ]
    },
    {
     "data": {
      "text/plain": [
       "[None, None, None]"
      ]
     },
     "execution_count": 26,
     "metadata": {},
     "output_type": "execute_result"
    },
    {
     "name": "stdout",
     "output_type": "stream",
     "text": [
      "5\n"
     ]
    }
   ],
   "source": [
    "[print(*item) for item in hero_team.items()]\n",
    "print(number)"
   ]
  },
  {
   "cell_type": "code",
   "execution_count": 27,
   "metadata": {},
   "outputs": [],
   "source": [
    "def one_more_function(new_element, lst=[]):\n",
    "    lst.append(new_element)\n",
    "    return lst"
   ]
  },
  {
   "cell_type": "code",
   "execution_count": 37,
   "metadata": {},
   "outputs": [
    {
     "data": {
      "text/plain": [
       "[1, 1, 1, 1, 1, 1, 1, 2, 42]"
      ]
     },
     "execution_count": 37,
     "metadata": {},
     "output_type": "execute_result"
    }
   ],
   "source": [
    "lst1 = one_more_function(42)\n",
    "lst1"
   ]
  },
  {
   "cell_type": "code",
   "execution_count": 64,
   "metadata": {},
   "outputs": [],
   "source": [
    "def func(x=None):\n",
    "    if x is not None:\n",
    "        if x > 0:\n",
    "            return len(str(x))\n",
    "        if x == 0:\n",
    "            return \"\"\n",
    "        if x < 0:\n",
    "            return abs(x)\n",
    "    return 'smth else'"
   ]
  },
  {
   "cell_type": "code",
   "execution_count": 65,
   "metadata": {},
   "outputs": [
    {
     "data": {
      "text/plain": [
       "42"
      ]
     },
     "execution_count": 65,
     "metadata": {},
     "output_type": "execute_result"
    },
    {
     "data": {
      "text/plain": [
       "''"
      ]
     },
     "execution_count": 65,
     "metadata": {},
     "output_type": "execute_result"
    },
    {
     "data": {
      "text/plain": [
       "2"
      ]
     },
     "execution_count": 65,
     "metadata": {},
     "output_type": "execute_result"
    },
    {
     "data": {
      "text/plain": [
       "'smth else'"
      ]
     },
     "execution_count": 65,
     "metadata": {},
     "output_type": "execute_result"
    }
   ],
   "source": [
    "func(-42)\n",
    "func(0)\n",
    "func(42)\n",
    "func()"
   ]
  },
  {
   "cell_type": "markdown",
   "metadata": {
    "slideshow": {
     "slide_type": "slide"
    }
   },
   "source": [
    "### Variable number of arguments"
   ]
  },
  {
   "cell_type": "code",
   "execution_count": 43,
   "metadata": {},
   "outputs": [
    {
     "name": "stdout",
     "output_type": "stream",
     "text": [
      "a = [1, 'b'] args = ()\n",
      "a = 1 args = ('b',)\n",
      "a = 1 args = ('b',)\n",
      "a = 1 args = ('b', 0.5)\n",
      "a = 1 args = ('b', [1, 2], 0.5)\n",
      "a = 1 args = ('b', [1, 2], 0.5)\n"
     ]
    }
   ],
   "source": [
    "def foo(a, *args):\n",
    "    print('a =', a, 'args =', args)\n",
    "\n",
    "array = [1, 'b'] \n",
    "foo(array) \n",
    "foo(*array)\n",
    "foo(array[0], array[1])\n",
    "foo(1, 'b', 0.5)\n",
    "foo(*[1, 'b', [1, 2], 0.5])  \n",
    "foo(1, 'b', [1, 2], 0.5)"
   ]
  },
  {
   "cell_type": "code",
   "execution_count": 47,
   "metadata": {},
   "outputs": [
    {
     "name": "stdout",
     "output_type": "stream",
     "text": [
      "a = 1 b = b args = ([1, 2], 0.5)\n",
      "a = 1 b = abc args = ([1, 2], 0.5)\n"
     ]
    }
   ],
   "source": [
    "def foo(a, *args, b):\n",
    "    print('a =', a, 'b =', b, 'args =', args)\n",
    "    \n",
    "foo(1, [1, 2], 0.5, b='b')\n",
    "foo(1, [1, 2], 0.5, b='abc')"
   ]
  },
  {
   "cell_type": "code",
   "execution_count": 49,
   "metadata": {
    "slideshow": {
     "slide_type": "subslide"
    }
   },
   "outputs": [
    {
     "name": "stdout",
     "output_type": "stream",
     "text": [
      "a = 1 b = 0.5 kwargs = {'c': 'c'}\n",
      "<class 'dict'>\n",
      "a = 1 b = b kwargs = {'c': 'c'}\n",
      "<class 'dict'>\n",
      "a = 1 b = b kwargs = {'c': 'c', 'd': 'd'}\n",
      "<class 'dict'>\n"
     ]
    }
   ],
   "source": [
    "def foo(a, b=0.5, **kwargs):\n",
    "    print('a =', a, 'b =', b, 'kwargs =', kwargs)\n",
    "    print(type(kwargs))\n",
    "    \n",
    "foo(1, c='c')\n",
    "foo(1, c='c', b='b')\n",
    "foo(1, 'b', c='c', d='d')"
   ]
  },
  {
   "cell_type": "code",
   "execution_count": 50,
   "metadata": {},
   "outputs": [
    {
     "name": "stdout",
     "output_type": "stream",
     "text": [
      "args = (1, 'a') kwargs = {'x': 0.5, 'y': [3, 4]}\n",
      "args = (1, 'a') kwargs = {'x': 0.5, 'y': [3, 4]}\n"
     ]
    }
   ],
   "source": [
    "def foo(*args, **kwargs):\n",
    "    print('args =', args, 'kwargs =', kwargs)\n",
    "    \n",
    "foo(1, 'a', x=0.5, y=[3, 4])\n",
    "foo(*[1, 'a'], **{'x' : 0.5, 'y': [3, 4]})"
   ]
  },
  {
   "cell_type": "markdown",
   "metadata": {
    "slideshow": {
     "slide_type": "slide"
    }
   },
   "source": [
    "### Recursion"
   ]
  },
  {
   "cell_type": "code",
   "execution_count": 56,
   "metadata": {},
   "outputs": [
    {
     "data": {
      "text/plain": [
       "False"
      ]
     },
     "execution_count": 56,
     "metadata": {},
     "output_type": "execute_result"
    }
   ],
   "source": [
    "bool([])"
   ]
  },
  {
   "cell_type": "code",
   "execution_count": 55,
   "metadata": {},
   "outputs": [
    {
     "data": {
      "text/plain": [
       "True"
      ]
     },
     "execution_count": 55,
     "metadata": {},
     "output_type": "execute_result"
    }
   ],
   "source": [
    "not []"
   ]
  },
  {
   "cell_type": "code",
   "execution_count": 57,
   "metadata": {},
   "outputs": [],
   "source": [
    "def easy_sort(x):\n",
    "    if not x:\n",
    "        return x\n",
    "    print(x)\n",
    "    first = min(x)\n",
    "    x.remove(first)\n",
    "    return [first] + easy_sort(x)"
   ]
  },
  {
   "cell_type": "code",
   "execution_count": 58,
   "metadata": {},
   "outputs": [
    {
     "name": "stdout",
     "output_type": "stream",
     "text": [
      "[4, 2, 3, 1, 7, 5]\n",
      "[4, 2, 3, 7, 5]\n",
      "[4, 3, 7, 5]\n",
      "[4, 7, 5]\n",
      "[7, 5]\n",
      "[7]\n"
     ]
    },
    {
     "data": {
      "text/plain": [
       "[1, 2, 3, 4, 5, 7]"
      ]
     },
     "execution_count": 58,
     "metadata": {},
     "output_type": "execute_result"
    }
   ],
   "source": [
    "easy_sort([4, 2, 3, 1, 7, 5])"
   ]
  },
  {
   "cell_type": "code",
   "execution_count": null,
   "metadata": {},
   "outputs": [],
   "source": [
    "# ackermann on wikipedia"
   ]
  },
  {
   "cell_type": "code",
   "execution_count": 59,
   "metadata": {},
   "outputs": [],
   "source": [
    "def ackermann(m, n):\n",
    "    if m == 0:\n",
    "        return n + 1\n",
    "    if n == 0:\n",
    "        return ackermann(m - 1, 1)\n",
    "    return ackermann(m - 1, ackermann(m, n - 1))"
   ]
  },
  {
   "cell_type": "code",
   "execution_count": 60,
   "metadata": {},
   "outputs": [
    {
     "name": "stdout",
     "output_type": "stream",
     "text": [
      "5\n",
      "9\n",
      "61\n"
     ]
    }
   ],
   "source": [
    "print(ackermann(1, 3))\n",
    "print(ackermann(2, 3))\n",
    "print(ackermann(3, 3))"
   ]
  },
  {
   "cell_type": "markdown",
   "metadata": {
    "slideshow": {
     "slide_type": "slide"
    }
   },
   "source": [
    "## Anonymous functions (Lambdas)"
   ]
  },
  {
   "cell_type": "code",
   "execution_count": 68,
   "metadata": {},
   "outputs": [
    {
     "data": {
      "text/plain": [
       "function"
      ]
     },
     "execution_count": 68,
     "metadata": {},
     "output_type": "execute_result"
    }
   ],
   "source": [
    "type(lambda x : print(x))"
   ]
  },
  {
   "cell_type": "code",
   "execution_count": 69,
   "metadata": {},
   "outputs": [
    {
     "data": {
      "text/plain": [
       "'gergerggergerg'"
      ]
     },
     "execution_count": 69,
     "metadata": {},
     "output_type": "execute_result"
    }
   ],
   "source": [
    "a = lambda x : x * 2\n",
    "a('gergerg')"
   ]
  },
  {
   "cell_type": "code",
   "execution_count": 70,
   "metadata": {},
   "outputs": [
    {
     "data": {
      "text/plain": [
       "84"
      ]
     },
     "execution_count": 70,
     "metadata": {},
     "output_type": "execute_result"
    }
   ],
   "source": [
    "f = lambda x, y: x + y\n",
    "f(42, 42)"
   ]
  },
  {
   "cell_type": "code",
   "execution_count": 72,
   "metadata": {},
   "outputs": [
    {
     "data": {
      "text/plain": [
       "<map at 0x113df12b0>"
      ]
     },
     "execution_count": 72,
     "metadata": {},
     "output_type": "execute_result"
    }
   ],
   "source": [
    "map(lambda x : x ** 2, range(10))"
   ]
  },
  {
   "cell_type": "code",
   "execution_count": 71,
   "metadata": {},
   "outputs": [
    {
     "data": {
      "text/plain": [
       "[0, 1, 4, 9, 16, 25, 36, 49, 64, 81]"
      ]
     },
     "execution_count": 71,
     "metadata": {},
     "output_type": "execute_result"
    }
   ],
   "source": [
    "list(map(lambda x : x ** 2, range(10)))"
   ]
  },
  {
   "cell_type": "code",
   "execution_count": 73,
   "metadata": {},
   "outputs": [
    {
     "data": {
      "text/plain": [
       "(0, 1, 4, 9, 16, 25, 36, 49, 64, 81)"
      ]
     },
     "execution_count": 73,
     "metadata": {},
     "output_type": "execute_result"
    }
   ],
   "source": [
    "tuple(map(lambda x : x ** 2, range(10)))"
   ]
  },
  {
   "cell_type": "code",
   "execution_count": 74,
   "metadata": {},
   "outputs": [
    {
     "data": {
      "text/plain": [
       "[4, 3, 2, 1]"
      ]
     },
     "execution_count": 74,
     "metadata": {},
     "output_type": "execute_result"
    }
   ],
   "source": [
    "sorted([1, 2, 3, 4], key=lambda x : 1 / x)"
   ]
  },
  {
   "cell_type": "code",
   "execution_count": 75,
   "metadata": {},
   "outputs": [
    {
     "data": {
      "text/plain": [
       "[-1, -2, 4, 3]"
      ]
     },
     "execution_count": 75,
     "metadata": {},
     "output_type": "execute_result"
    }
   ],
   "source": [
    "sorted([-1, -2, 3, 4], key=lambda x : 1 / x)"
   ]
  },
  {
   "cell_type": "code",
   "execution_count": null,
   "metadata": {},
   "outputs": [],
   "source": []
  }
 ],
 "metadata": {
  "kernelspec": {
   "display_name": "Python 3 (ipykernel)",
   "language": "python",
   "name": "python3"
  },
  "language_info": {
   "codemirror_mode": {
    "name": "ipython",
    "version": 3
   },
   "file_extension": ".py",
   "mimetype": "text/x-python",
   "name": "python",
   "nbconvert_exporter": "python",
   "pygments_lexer": "ipython3",
   "version": "3.8.12"
  }
 },
 "nbformat": 4,
 "nbformat_minor": 2
}
