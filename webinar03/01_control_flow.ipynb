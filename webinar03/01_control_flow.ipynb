{
 "cells": [
  {
   "cell_type": "code",
   "execution_count": null,
   "metadata": {
    "slideshow": {
     "slide_type": "skip"
    }
   },
   "outputs": [],
   "source": [
    "from IPython.core.interactiveshell import InteractiveShell\n",
    "InteractiveShell.ast_node_interactivity = \"all\""
   ]
  },
  {
   "cell_type": "markdown",
   "metadata": {
    "slideshow": {
     "slide_type": "slide"
    }
   },
   "source": [
    "## Conditionals, loops\n"
   ]
  },
  {
   "cell_type": "markdown",
   "metadata": {
    "slideshow": {
     "slide_type": "slide"
    }
   },
   "source": [
    "# Contents\n",
    "\n",
    "1. Conditional operator\n",
    "2. Ternary conditional operator\n",
    "3. While-loop\n",
    "4. For-loop\n",
    "5. List comprehensions"
   ]
  },
  {
   "cell_type": "markdown",
   "metadata": {
    "slideshow": {
     "slide_type": "slide"
    }
   },
   "source": [
    "# 1. Conditional operators (if, elif, else)\n",
    "\n"
   ]
  },
  {
   "cell_type": "code",
   "execution_count": null,
   "metadata": {},
   "outputs": [],
   "source": [
    "if 1 > 0:\n",
    "    print('yes')\n",
    "    print('yes')"
   ]
  },
  {
   "cell_type": "code",
   "execution_count": null,
   "metadata": {},
   "outputs": [],
   "source": [
    "if 1 == 0:\n",
    "    print('yes')\n",
    "    print('yes')\n",
    "    \n",
    "print('this print after if')"
   ]
  },
  {
   "cell_type": "code",
   "execution_count": null,
   "metadata": {
    "slideshow": {
     "slide_type": "fragment"
    }
   },
   "outputs": [],
   "source": [
    "question = 'Can I drive a car'\n",
    "\n",
    "# input() function asks for user input\n",
    "\n",
    "age = input(\"Your age: \")  # argument - message text\n",
    "\n",
    "age = int(age) # int() function casts age to integer\n",
    "\n",
    "\n",
    "if age >= 18: # if you're 18 years old or older\n",
    "    \n",
    "    answer = 'Yes, you can drive'\n",
    "\n",
    "else: \n",
    "    \n",
    "    answer = \"No, you can't drive\"\n",
    "    \n",
    "print(answer)"
   ]
  },
  {
   "cell_type": "markdown",
   "metadata": {
    "slideshow": {
     "slide_type": "subslide"
    }
   },
   "source": [
    "Note 1.  A colon after the condition (at the end of the IF line) is required!\n",
    "\n",
    "Note 2.  Both after IF and ELSE!\n",
    "\n",
    "Note 3:  In python, groups of commands are determined by INDENTATION! Indents must be carefully monitored! Spaces and tabs can serve as indents, and in any quantity, the main thing is that commands from the same group are on the same level.\n",
    "\n"
   ]
  },
  {
   "cell_type": "markdown",
   "metadata": {
    "slideshow": {
     "slide_type": "subslide"
    }
   },
   "source": [
    "Note 4: Python has no operator brackets, unlike languages like C ++ or Java. In these languages, the set of commands that must be executed under a certain condition is determined by the location of the brackets, for example, something like:\n",
    "```\n",
    "IF condition1, then {\n",
    "command1\n",
    "command2}\n",
    "ELSE {\n",
    "command3}\n",
    "```\n",
    "Here commands 1 and 2 are being executed if condition1 is true, otherwise command3 is being executed.\n",
    "\n",
    "\n",
    "In Python it looks like this:\n",
    "```\n",
    "if condition1:\n",
    "    command1\n",
    "    command2\n",
    "elif condition2:\n",
    "    commands\n",
    "elif condition3:\n",
    "    commands\n",
    "else:\n",
    "    command3\n",
    "```\n"
   ]
  },
  {
   "cell_type": "markdown",
   "metadata": {
    "slideshow": {
     "slide_type": "subslide"
    }
   },
   "source": [
    "You can also compose several conditions:"
   ]
  },
  {
   "cell_type": "code",
   "execution_count": null,
   "metadata": {},
   "outputs": [],
   "source": [
    "question = 'Can I drive a car?'\n",
    "\n",
    "age = int(input(\"Your age: \"))  # It is convenient to use int(input()) if you are asking for a number\n",
    "\n",
    "# country = 'Russia'\n",
    "country = 'USA'\n",
    "\n",
    "if age >= 16 and country == 'USA':  # If you're 16 or older and you live in USA\n",
    "    \n",
    "    answer = 'Yes, you can drive'\n",
    "\n",
    "#elif - short from else if\n",
    "elif age >= 18 and country == 'Russia':  # If the condition above is false, but you are 18 or older and you live in Russia\n",
    "    \n",
    "    answer = 'Yes, you can drive'\n",
    "    \n",
    "else:\n",
    "    \n",
    "    answer = \"No, you can't drive\"\n",
    "    \n",
    "print(answer)"
   ]
  },
  {
   "cell_type": "code",
   "execution_count": null,
   "metadata": {},
   "outputs": [],
   "source": [
    "x = 0\n",
    "\n",
    "if x > 100:\n",
    "    print(1)\n",
    "elif x > 10:\n",
    "    print(2)\n",
    "elif x > 0:\n",
    "    print('positive')\n",
    "elif x == 0:\n",
    "    print(0)\n",
    "else:\n",
    "    print('negative')"
   ]
  },
  {
   "cell_type": "markdown",
   "metadata": {
    "slideshow": {
     "slide_type": "slide"
    }
   },
   "source": [
    "# 2. Ternary conditional operator\n"
   ]
  },
  {
   "cell_type": "code",
   "execution_count": 17,
   "metadata": {},
   "outputs": [
    {
     "data": {
      "text/plain": [
       "'true'"
      ]
     },
     "execution_count": 17,
     "metadata": {},
     "output_type": "execute_result"
    },
    {
     "data": {
      "text/plain": [
       "'false'"
      ]
     },
     "execution_count": 17,
     "metadata": {},
     "output_type": "execute_result"
    }
   ],
   "source": [
    "# a if condition else b\n",
    "\n",
    "'true' if True else 'false'\n",
    "'true' if False else 'false'"
   ]
  },
  {
   "cell_type": "code",
   "execution_count": 18,
   "metadata": {
    "scrolled": true,
    "slideshow": {
     "slide_type": "subslide"
    }
   },
   "outputs": [
    {
     "name": "stdout",
     "output_type": "stream",
     "text": [
      "5 3\n",
      "3 5\n",
      "5\n",
      "8\n"
     ]
    }
   ],
   "source": [
    "# Can be used in expressions\n",
    "\n",
    "x, y = 5, 3 # Yes, it's legal\n",
    "\n",
    "print(x, y)\n",
    "\n",
    "x, y = y, x # And this is legal too!\n",
    "\n",
    "print(x, y)\n",
    "\n",
    "z = 3 + x if x > y else y\n",
    "\n",
    "print(z)\n",
    "\n",
    "z = 3 + (x if x > y else y) # Be careful with calculation order!\n",
    "\n",
    "print(z)"
   ]
  },
  {
   "cell_type": "code",
   "execution_count": 19,
   "metadata": {},
   "outputs": [
    {
     "data": {
      "text/plain": [
       "'teenager'"
      ]
     },
     "execution_count": 19,
     "metadata": {},
     "output_type": "execute_result"
    }
   ],
   "source": [
    "# Can be used in a row (but don't you dare)\n",
    "age = 15\n",
    "'kid' if age < 13 else 'teenager' if age < 18 else 'adult'"
   ]
  },
  {
   "cell_type": "code",
   "execution_count": 21,
   "metadata": {
    "slideshow": {
     "slide_type": "subslide"
    }
   },
   "outputs": [
    {
     "name": "stdout",
     "output_type": "stream",
     "text": [
      "The cat is  mean\n",
      "The cat is  mean\n"
     ]
    }
   ],
   "source": [
    "# Equivalent constructs:\n",
    "\n",
    "nice = False\n",
    "\n",
    "#1\n",
    "personality = \"nice\" if nice else \"mean\"\n",
    "print(\"The cat is \", personality)\n",
    "\n",
    "#2\n",
    "personality = (\"mean\", \"nice\")[nice]\n",
    "print(\"The cat is \", personality)"
   ]
  },
  {
   "cell_type": "markdown",
   "metadata": {
    "slideshow": {
     "slide_type": "slide"
    }
   },
   "source": [
    "# 3. While loop\n"
   ]
  },
  {
   "cell_type": "code",
   "execution_count": 22,
   "metadata": {},
   "outputs": [
    {
     "name": "stdout",
     "output_type": "stream",
     "text": [
      "1\n",
      "Hello! \n",
      "2\n",
      "Hello! Hello! \n",
      "3\n",
      "Hello! Hello! Hello! \n"
     ]
    }
   ],
   "source": [
    "greetings = 1\n",
    "\n",
    "while greetings <= 3:\n",
    "    \n",
    "    print(greetings)\n",
    "    print('Hello! ' * greetings)\n",
    "    # += is increment operator\n",
    "    greetings += 1 # is equivalent to \"greetings = greetings + 1\""
   ]
  },
  {
   "cell_type": "code",
   "execution_count": 23,
   "metadata": {},
   "outputs": [
    {
     "data": {
      "text/plain": [
       "4"
      ]
     },
     "execution_count": 23,
     "metadata": {},
     "output_type": "execute_result"
    }
   ],
   "source": [
    "greetings"
   ]
  },
  {
   "cell_type": "markdown",
   "metadata": {
    "slideshow": {
     "slide_type": "subslide"
    }
   },
   "source": [
    "break"
   ]
  },
  {
   "cell_type": "code",
   "execution_count": 25,
   "metadata": {
    "scrolled": true
   },
   "outputs": [
    {
     "name": "stdout",
     "output_type": "stream",
     "text": [
      "5050\n"
     ]
    }
   ],
   "source": [
    "i = 0\n",
    "k = 5\n",
    "\n",
    "S = 0 # Sum of the first 100 integers\n",
    "\n",
    "while True:\n",
    "    i += 1\n",
    "    S += i    \n",
    "    if not i < 100: \n",
    "        break\n",
    "    \n",
    "\n",
    "print(S) "
   ]
  },
  {
   "cell_type": "code",
   "execution_count": 26,
   "metadata": {},
   "outputs": [
    {
     "name": "stdout",
     "output_type": "stream",
     "text": [
      "1\n",
      "1\n",
      "2\n",
      "3\n",
      "3\n",
      "6\n",
      "4\n",
      "10\n",
      "5\n",
      "15\n",
      "6\n",
      "21\n",
      "7\n",
      "28\n",
      "8\n",
      "36\n",
      "9\n",
      "45\n",
      "10\n",
      "55\n",
      "55\n"
     ]
    }
   ],
   "source": [
    "i = 0\n",
    "k = 5\n",
    "\n",
    "S = 0 # Sum of the first 10 integers\n",
    "\n",
    "while True:\n",
    "    \n",
    "    i += 1\n",
    "    print(i)\n",
    "    S += i\n",
    "    print(S)\n",
    "    if not i < 10: \n",
    "        break\n",
    "    \n",
    "\n",
    "print(S) "
   ]
  },
  {
   "cell_type": "markdown",
   "metadata": {
    "slideshow": {
     "slide_type": "subslide"
    }
   },
   "source": [
    "continue"
   ]
  },
  {
   "cell_type": "code",
   "execution_count": 29,
   "metadata": {},
   "outputs": [
    {
     "name": "stdout",
     "output_type": "stream",
     "text": [
      "1\n",
      "S =  1\n",
      "2\n",
      "3\n",
      "S =  4\n",
      "4\n",
      "5\n",
      "S =  9\n",
      "6\n",
      "7\n",
      "S =  16\n",
      "8\n",
      "9\n",
      "S =  25\n",
      "10\n",
      "11\n",
      "S =  36\n",
      "12\n",
      "13\n",
      "S =  49\n",
      "14\n",
      "15\n",
      "S =  64\n",
      "16\n",
      "17\n",
      "S =  81\n",
      "18\n",
      "19\n",
      "S =  100\n",
      "20\n",
      "21\n",
      "S =  121\n",
      "22\n",
      "23\n",
      "S =  144\n",
      "24\n",
      "25\n",
      "S =  169\n",
      "26\n",
      "27\n",
      "S =  196\n",
      "28\n",
      "29\n",
      "S =  225\n",
      "30\n",
      "31\n",
      "S =  256\n",
      "32\n",
      "33\n",
      "S =  289\n",
      "34\n",
      "35\n",
      "S =  324\n",
      "36\n",
      "37\n",
      "S =  361\n",
      "38\n",
      "39\n",
      "S =  400\n",
      "40\n",
      "41\n",
      "S =  441\n",
      "42\n",
      "43\n",
      "S =  484\n",
      "44\n",
      "45\n",
      "S =  529\n",
      "46\n",
      "47\n",
      "S =  576\n",
      "48\n",
      "49\n",
      "S =  625\n",
      "50\n",
      "51\n",
      "S =  676\n",
      "52\n",
      "53\n",
      "S =  729\n",
      "54\n",
      "55\n",
      "S =  784\n",
      "56\n",
      "57\n",
      "S =  841\n",
      "58\n",
      "59\n",
      "S =  900\n",
      "60\n",
      "61\n",
      "S =  961\n",
      "62\n",
      "63\n",
      "S =  1024\n",
      "64\n",
      "65\n",
      "S =  1089\n",
      "66\n",
      "67\n",
      "S =  1156\n",
      "68\n",
      "69\n",
      "S =  1225\n",
      "70\n",
      "71\n",
      "S =  1296\n",
      "72\n",
      "73\n",
      "S =  1369\n",
      "74\n",
      "75\n",
      "S =  1444\n",
      "76\n",
      "77\n",
      "S =  1521\n",
      "78\n",
      "79\n",
      "S =  1600\n",
      "80\n",
      "81\n",
      "S =  1681\n",
      "82\n",
      "83\n",
      "S =  1764\n",
      "84\n",
      "85\n",
      "S =  1849\n",
      "86\n",
      "87\n",
      "S =  1936\n",
      "88\n",
      "89\n",
      "S =  2025\n",
      "90\n",
      "91\n",
      "S =  2116\n",
      "92\n",
      "93\n",
      "S =  2209\n",
      "94\n",
      "95\n",
      "S =  2304\n",
      "96\n",
      "97\n",
      "S =  2401\n",
      "98\n",
      "99\n",
      "S =  2500\n",
      "100\n",
      "2500\n"
     ]
    }
   ],
   "source": [
    "i = 0\n",
    "k = 2\n",
    "\n",
    "S = 0 # Sum of the first 100 integers that are not multiples of k\n",
    "\n",
    "while i < 100:\n",
    "    \n",
    "    i += 1\n",
    "    print(i)\n",
    "    if not i % k:\n",
    "        continue\n",
    "        \n",
    "    S += i\n",
    "    print('S = ', S)\n",
    "    \n",
    "\n",
    "print(S)    "
   ]
  },
  {
   "cell_type": "code",
   "execution_count": 34,
   "metadata": {
    "slideshow": {
     "slide_type": "subslide"
    }
   },
   "outputs": [
    {
     "name": "stdout",
     "output_type": "stream",
     "text": [
      "1\n",
      "3\n",
      "7\n",
      "8\n",
      "10\n",
      "Nope :(\n",
      "after looping\n"
     ]
    }
   ],
   "source": [
    "# while..else construct\n",
    "\n",
    "numbers = [1, 3, 7, 8, 10]\n",
    "i = 0\n",
    "\n",
    "while i < len(numbers):\n",
    "    print(numbers[i])\n",
    "    if numbers[i] == 5:\n",
    "        \n",
    "        print('Found five!')\n",
    "        break\n",
    "    \n",
    "    i += 1\n",
    "        \n",
    "else: # if break has been never called\n",
    "    \n",
    "    print('Nope :(')\n",
    "    \n",
    "print('after looping')"
   ]
  },
  {
   "cell_type": "markdown",
   "metadata": {},
   "source": [
    "In Python, conditions and loops do not create their own scope!"
   ]
  },
  {
   "cell_type": "markdown",
   "metadata": {
    "slideshow": {
     "slide_type": "slide"
    }
   },
   "source": [
    "# 4. For loop \n",
    "\n"
   ]
  },
  {
   "cell_type": "code",
   "execution_count": 36,
   "metadata": {},
   "outputs": [
    {
     "data": {
      "text/plain": [
       "[0, 1, 2, 3, 4, 5, 6, 7, 8, 9]"
      ]
     },
     "execution_count": 36,
     "metadata": {},
     "output_type": "execute_result"
    }
   ],
   "source": [
    "list(range(10))"
   ]
  },
  {
   "cell_type": "code",
   "execution_count": 35,
   "metadata": {},
   "outputs": [
    {
     "name": "stdout",
     "output_type": "stream",
     "text": [
      "0\n",
      "0\n",
      "1\n",
      "1\n",
      "2\n",
      "4\n",
      "3\n",
      "9\n",
      "4\n",
      "16\n",
      "5\n",
      "25\n",
      "6\n",
      "36\n",
      "7\n",
      "49\n",
      "8\n",
      "64\n",
      "9\n",
      "81\n"
     ]
    }
   ],
   "source": [
    "for i in range(10):\n",
    "    print(i)\n",
    "    print(i ** 2)"
   ]
  },
  {
   "cell_type": "code",
   "execution_count": 39,
   "metadata": {
    "slideshow": {
     "slide_type": "subslide"
    }
   },
   "outputs": [
    {
     "name": "stdout",
     "output_type": "stream",
     "text": [
      "Hello, Alice\n",
      "Hello, Bob\n",
      "Hello, Charley\n",
      "Hello, 0\n",
      "Hello, 1\n",
      "Hello, 42\n",
      "\n",
      "Hello, Alice\n",
      "Hello, Bob\n",
      "Hello, Charley\n",
      "Hello, 0\n",
      "Hello, 1\n",
      "Hello, 42\n",
      "\n",
      "Hello, Alice\n",
      "Hello, Bob\n",
      "Hello, Charley\n",
      "Hello, 0\n",
      "Hello, 1\n",
      "Hello, 42\n",
      "\n",
      "(0, 'Alice')\n",
      "(1, 'Bob')\n",
      "(2, 'Charley')\n",
      "(3, 0)\n",
      "(4, 1)\n",
      "(5, 42)\n"
     ]
    }
   ],
   "source": [
    "NameList = ['Alice', 'Bob', 'Charley', 0, 1, 42]\n",
    "\n",
    "for name in NameList: # Walking through the list of names\n",
    "    \n",
    "    print('Hello, ' + str(name))\n",
    "    \n",
    "print()\n",
    "    \n",
    "for i in range(len(NameList)): # Walking through indices from 0 to L-1\n",
    "    \n",
    "    print('Hello, ' + str(NameList[i]))\n",
    "    \n",
    "print()\n",
    "    \n",
    "for i, name in enumerate(NameList): # Walking through index-element pairs\n",
    "    \n",
    "    print('Hello, ' + str(NameList[i]))\n",
    "    \n",
    "print()\n",
    "\n",
    "for name in enumerate(NameList): # Walking through the list of tuples idx-name\n",
    "    \n",
    "    print(name)"
   ]
  },
  {
   "cell_type": "code",
   "execution_count": 40,
   "metadata": {
    "slideshow": {
     "slide_type": "subslide"
    }
   },
   "outputs": [
    {
     "name": "stdout",
     "output_type": "stream",
     "text": [
      "Hello, Alice\n",
      "Hello, Bob\n"
     ]
    }
   ],
   "source": [
    "#break\n",
    "#Let's say hello to just two people\n",
    "\n",
    "NameList = ['Alice', 'Bob', 'Charley']\n",
    "\n",
    "for i in range(len(NameList)):\n",
    "    \n",
    "    print('Hello, ' + NameList[i])\n",
    "    \n",
    "    if i > 0: \n",
    "        \n",
    "        break"
   ]
  },
  {
   "cell_type": "code",
   "execution_count": 41,
   "metadata": {
    "slideshow": {
     "slide_type": "subslide"
    }
   },
   "outputs": [
    {
     "name": "stdout",
     "output_type": "stream",
     "text": [
      "Hello, Alice\n",
      "Hello, Charley\n"
     ]
    }
   ],
   "source": [
    "#continue\n",
    "#Let's not say hello to Bob\n",
    "\n",
    "NameList = ['Alice', 'Bob', 'Charley']\n",
    "\n",
    "for name in NameList: \n",
    "    \n",
    "    if name == 'Bob': \n",
    "        \n",
    "        continue\n",
    "    \n",
    "    print('Hello, ' + name)"
   ]
  },
  {
   "cell_type": "code",
   "execution_count": 43,
   "metadata": {
    "slideshow": {
     "slide_type": "subslide"
    }
   },
   "outputs": [
    {
     "name": "stdout",
     "output_type": "stream",
     "text": [
      "1\n",
      "3\n",
      "7\n",
      "5\n",
      "We found five!\n"
     ]
    }
   ],
   "source": [
    "# for..else construct\n",
    "\n",
    "numbers = [1, 3, 7, 5, 8, 10]\n",
    "\n",
    "for n in numbers:\n",
    "    print(n)\n",
    "    if n == 5:\n",
    "        \n",
    "        print('We found five!')\n",
    "        break\n",
    "        \n",
    "else: # only if IF-condition never has been true\n",
    "    \n",
    "    print('We haven\\'t found five :(')\n"
   ]
  },
  {
   "cell_type": "code",
   "execution_count": 44,
   "metadata": {
    "slideshow": {
     "slide_type": "subslide"
    }
   },
   "outputs": [],
   "source": [
    "#pass == do nothing\n",
    "for n in (1, 2, 3): \n",
    "    pass"
   ]
  },
  {
   "cell_type": "code",
   "execution_count": 47,
   "metadata": {},
   "outputs": [
    {
     "ename": "SyntaxError",
     "evalue": "unexpected EOF while parsing (3403022518.py, line 3)",
     "output_type": "error",
     "traceback": [
      "\u001b[0;36m  File \u001b[0;32m\"/var/folders/v8/2cskhqjj0_g0zp3824glf1tm0000gn/T/ipykernel_9819/3403022518.py\"\u001b[0;36m, line \u001b[0;32m3\u001b[0m\n\u001b[0;31m    \u001b[0m\n\u001b[0m    ^\u001b[0m\n\u001b[0;31mSyntaxError\u001b[0m\u001b[0;31m:\u001b[0m unexpected EOF while parsing\n"
     ]
    }
   ],
   "source": [
    "#That's why we need pass:\n",
    "for n in (1, 2, 3):\n",
    "    "
   ]
  },
  {
   "cell_type": "markdown",
   "metadata": {
    "slideshow": {
     "slide_type": "slide"
    }
   },
   "source": [
    "## list comprehensions\n"
   ]
  },
  {
   "cell_type": "markdown",
   "metadata": {},
   "source": [
    "### Python has a very useful thing called \"list comprehensions\". It looks like this:"
   ]
  },
  {
   "cell_type": "code",
   "execution_count": 49,
   "metadata": {},
   "outputs": [
    {
     "name": "stdout",
     "output_type": "stream",
     "text": [
      "[0, 1, 4, 9, 16, 25, 36, 49, 64, 81]\n"
     ]
    }
   ],
   "source": [
    "lst = []\n",
    "\n",
    "for i in range(10):\n",
    "    lst.append(i ** 2)\n",
    "    \n",
    "print(lst)"
   ]
  },
  {
   "cell_type": "code",
   "execution_count": 50,
   "metadata": {},
   "outputs": [
    {
     "data": {
      "text/plain": [
       "[0, 1, 4, 9, 16, 25, 36, 49, 64, 81]"
      ]
     },
     "execution_count": 50,
     "metadata": {},
     "output_type": "execute_result"
    }
   ],
   "source": [
    "lst = [x ** 2 for x in range(10)]\n",
    "lst"
   ]
  },
  {
   "cell_type": "code",
   "execution_count": 53,
   "metadata": {},
   "outputs": [
    {
     "data": {
      "text/plain": [
       "[1, 9, 25, 49, 81]"
      ]
     },
     "execution_count": 53,
     "metadata": {},
     "output_type": "execute_result"
    }
   ],
   "source": [
    "#In general: [expression for all x from list/iterator such that ...]\n",
    "\n",
    "var_lst = [x**2 for x in range(10) if x%2 != 0] # List of squares of odd numbers less than 10\n",
    "var_lst"
   ]
  },
  {
   "cell_type": "code",
   "execution_count": 54,
   "metadata": {
    "slideshow": {
     "slide_type": "subslide"
    }
   },
   "outputs": [
    {
     "data": {
      "text/plain": [
       "[(4, 2), (6, 2), (6, 3), (8, 2), (8, 4), (9, 3)]"
      ]
     },
     "execution_count": 54,
     "metadata": {},
     "output_type": "execute_result"
    }
   ],
   "source": [
    "# List comprehension can work with nested loops\n",
    "\n",
    "sorted([(y, x) for x in range(2, 10) for y in range(x+1, 10) if y%x == 0])"
   ]
  },
  {
   "cell_type": "code",
   "execution_count": 55,
   "metadata": {
    "slideshow": {
     "slide_type": "subslide"
    }
   },
   "outputs": [
    {
     "data": {
      "text/plain": [
       "[[0, 0, 0], [0, 0, 0], [0, 0, 0]]"
      ]
     },
     "execution_count": 55,
     "metadata": {},
     "output_type": "execute_result"
    },
    {
     "data": {
      "text/plain": [
       "[[0, 0, 0], [0, 0, 0], [0, 0, 0]]"
      ]
     },
     "execution_count": 55,
     "metadata": {},
     "output_type": "execute_result"
    }
   ],
   "source": [
    "# For known reasons (which ones?) instead of:\n",
    "[[0]*3]*3\n",
    "\n",
    "# you better use:\n",
    "[[0]*3 for i in range(3)]"
   ]
  },
  {
   "cell_type": "code",
   "execution_count": 56,
   "metadata": {},
   "outputs": [
    {
     "data": {
      "text/plain": [
       "[[0, 1, 4, 9, 16], [0, 1, 4, 9, 16], [0, 1, 4, 9, 16]]"
      ]
     },
     "execution_count": 56,
     "metadata": {},
     "output_type": "execute_result"
    }
   ],
   "source": [
    "[[j**2 for j in range(5)] for i in range(3)]"
   ]
  },
  {
   "cell_type": "code",
   "execution_count": 57,
   "metadata": {},
   "outputs": [
    {
     "name": "stdout",
     "output_type": "stream",
     "text": [
      "[0, 1, 4, 9, 16]\n",
      "[0, 1, 4, 9, 16]\n",
      "[0, 1, 4, 9, 16]\n"
     ]
    }
   ],
   "source": [
    "print(*[[j**2 for j in range(5)] for i in range(3)], sep='\\n')"
   ]
  },
  {
   "cell_type": "markdown",
   "metadata": {
    "slideshow": {
     "slide_type": "slide"
    }
   },
   "source": [
    "## generator expressions\n"
   ]
  },
  {
   "cell_type": "code",
   "execution_count": 58,
   "metadata": {},
   "outputs": [
    {
     "data": {
      "text/plain": [
       "285"
      ]
     },
     "execution_count": 58,
     "metadata": {},
     "output_type": "execute_result"
    },
    {
     "data": {
      "text/plain": [
       "285"
      ]
     },
     "execution_count": 58,
     "metadata": {},
     "output_type": "execute_result"
    },
    {
     "data": {
      "text/plain": [
       "list"
      ]
     },
     "execution_count": 58,
     "metadata": {},
     "output_type": "execute_result"
    },
    {
     "data": {
      "text/plain": [
       "generator"
      ]
     },
     "execution_count": 58,
     "metadata": {},
     "output_type": "execute_result"
    }
   ],
   "source": [
    "# Sometimes it's better to create a generator instead of a list \n",
    "# in order to not store the whole sequence in memory \n",
    "# but instead to iterate elements one by one when you need them\n",
    "\n",
    "\n",
    "sum([x*x for x in range(10)]) # list comprehension\n",
    "sum(x*x for x in range(10))   # generator expression\n",
    "\n",
    "# Find the difference!\n",
    "\n",
    "type([x*x for x in range(10)])\n",
    "type(x*x for x in range(10))"
   ]
  },
  {
   "cell_type": "code",
   "execution_count": null,
   "metadata": {},
   "outputs": [],
   "source": []
  }
 ],
 "metadata": {
  "kernelspec": {
   "display_name": "Python 3 (ipykernel)",
   "language": "python",
   "name": "python3"
  },
  "language_info": {
   "codemirror_mode": {
    "name": "ipython",
    "version": 3
   },
   "file_extension": ".py",
   "mimetype": "text/x-python",
   "name": "python",
   "nbconvert_exporter": "python",
   "pygments_lexer": "ipython3",
   "version": "3.8.12"
  }
 },
 "nbformat": 4,
 "nbformat_minor": 2
}
