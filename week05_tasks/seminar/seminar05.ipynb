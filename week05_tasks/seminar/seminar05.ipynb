{
 "cells": [
  {
   "cell_type": "markdown",
   "metadata": {},
   "source": [
    "# Tasks\n",
    "\n",
    "### 1. Desire\n",
    "\n",
    "Create button to sent report for month to email (in file).\n",
    "\n",
    "\n",
    "### 2. Requirements\n",
    "\n",
    "**functional requirements:**\n",
    "\n",
    "    - You need to create separate page called \"Reports\"\n",
    "    - You need to create form with inputs:\n",
    "        - date_from\n",
    "        - date_to\n",
    "        - email\n",
    "        - button\n",
    "\n",
    "    - When button clicked you need to create .csv file with columns:\n",
    "        - item id\n",
    "        - item name\n",
    "        - item price\n",
    "        - item selling date\n",
    "        - ...\n",
    "    - And send it to given email\n",
    "\n",
    "**non-functional requirements:**\n",
    "    - time\n",
    "    - data validations\n",
    "    - ...\n",
    "\n",
    "\n",
    "### 3. Tests\n",
    "\n",
    "    - Run a code\n",
    "    - Tests by hands\n",
    "    - unittest\n",
    "    - end2end test\n",
    "    - highload test\n",
    "    - QA teams\n",
    "\n",
    "\n",
    "### 4. Maintenance\n",
    "\n",
    "    - code support"
   ]
  },
  {
   "cell_type": "markdown",
   "metadata": {},
   "source": [
    "# Web server using Flask"
   ]
  },
  {
   "cell_type": "markdown",
   "metadata": {},
   "source": [
    "### Installation"
   ]
  },
  {
   "cell_type": "code",
   "execution_count": 1,
   "metadata": {},
   "outputs": [
    {
     "name": "stdout",
     "output_type": "stream",
     "text": [
      "Requirement already satisfied: Flask in /Users/nlevashov/opt/anaconda3/lib/python3.7/site-packages (1.1.1)\n",
      "Requirement already satisfied: Jinja2>=2.10.1 in /Users/nlevashov/opt/anaconda3/lib/python3.7/site-packages (from Flask) (2.11.1)\n",
      "Requirement already satisfied: Werkzeug>=0.15 in /Users/nlevashov/opt/anaconda3/lib/python3.7/site-packages (from Flask) (1.0.0)\n",
      "Requirement already satisfied: click>=5.1 in /Users/nlevashov/opt/anaconda3/lib/python3.7/site-packages (from Flask) (7.0)\n",
      "Requirement already satisfied: itsdangerous>=0.24 in /Users/nlevashov/opt/anaconda3/lib/python3.7/site-packages (from Flask) (1.1.0)\n",
      "Requirement already satisfied: MarkupSafe>=0.23 in /Users/nlevashov/opt/anaconda3/lib/python3.7/site-packages (from Jinja2>=2.10.1->Flask) (1.1.1)\n"
     ]
    }
   ],
   "source": [
    "! pip install Flask"
   ]
  },
  {
   "cell_type": "markdown",
   "metadata": {},
   "source": [
    "### Create a server"
   ]
  },
  {
   "cell_type": "code",
   "execution_count": 2,
   "metadata": {},
   "outputs": [],
   "source": [
    "from flask import Flask\n",
    "\n",
    "app = Flask(__name__)\n",
    "\n",
    "count = 0\n",
    "\n",
    "\n",
    "@app.route(\"/\")\n",
    "def hello():\n",
    "    global count\n",
    "    count += 1\n",
    "    return 'Hello, World! <a href=\"/page2\">Page 2</a>'\n",
    "\n",
    "\n",
    "@app.route(\"/page2\")\n",
    "def page2():\n",
    "    global count\n",
    "    count += 1\n",
    "    return 'Hello, again! <a href=\"/\">Main page</a>'\n",
    "\n",
    "\n",
    "@app.route(\"/stats\")\n",
    "def stats():\n",
    "    global count\n",
    "    count += 1\n",
    "    return f'Visits: {count} <a href=\"/\">Main page</a>'"
   ]
  },
  {
   "cell_type": "markdown",
   "metadata": {},
   "source": [
    "### Run a server"
   ]
  },
  {
   "cell_type": "code",
   "execution_count": 3,
   "metadata": {},
   "outputs": [
    {
     "name": "stdout",
     "output_type": "stream",
     "text": [
      " * Serving Flask app \"__main__\" (lazy loading)\n",
      " * Environment: production\n",
      "   WARNING: This is a development server. Do not use it in a production deployment.\n",
      "   Use a production WSGI server instead.\n",
      " * Debug mode: off\n"
     ]
    },
    {
     "name": "stderr",
     "output_type": "stream",
     "text": [
      " * Running on http://127.0.0.1:5000/ (Press CTRL+C to quit)\n"
     ]
    }
   ],
   "source": [
    "app.run()"
   ]
  }
 ],
 "metadata": {
  "kernelspec": {
   "display_name": "Python 3",
   "language": "python",
   "name": "python3"
  },
  "language_info": {
   "codemirror_mode": {
    "name": "ipython",
    "version": 3
   },
   "file_extension": ".py",
   "mimetype": "text/x-python",
   "name": "python",
   "nbconvert_exporter": "python",
   "pygments_lexer": "ipython3",
   "version": "3.7.6"
  }
 },
 "nbformat": 4,
 "nbformat_minor": 4
}
